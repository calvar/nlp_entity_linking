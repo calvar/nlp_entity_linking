{
 "cells": [
  {
   "cell_type": "code",
   "execution_count": 21,
   "id": "c063be8b",
   "metadata": {},
   "outputs": [
    {
     "data": {
      "text/plain": [
       "<module 'functions' from '/home/carlos/Documents/MachineLearning/manning/calvar-nlp-entity-linking-lp-main/milestone5/functions.py'>"
      ]
     },
     "execution_count": 21,
     "metadata": {},
     "output_type": "execute_result"
    }
   ],
   "source": [
    "from imp import reload\n",
    "import functions as fun\n",
    "# Change in mymodule\n",
    "reload(fun)"
   ]
  },
  {
   "cell_type": "code",
   "execution_count": 2,
   "id": "341f1422",
   "metadata": {},
   "outputs": [],
   "source": [
    "import pandas as pd"
   ]
  },
  {
   "cell_type": "code",
   "execution_count": 3,
   "id": "09d7ee6f",
   "metadata": {},
   "outputs": [],
   "source": [
    "#Clean data\n",
    "data_df = fun.remove_missing_add_length(\"../data/mtsamples_descriptions_clean.csv\", \"data_df.csv\");"
   ]
  },
  {
   "cell_type": "code",
   "execution_count": 4,
   "id": "cf020a94",
   "metadata": {},
   "outputs": [
    {
     "data": {
      "text/html": [
       "<div>\n",
       "<style scoped>\n",
       "    .dataframe tbody tr th:only-of-type {\n",
       "        vertical-align: middle;\n",
       "    }\n",
       "\n",
       "    .dataframe tbody tr th {\n",
       "        vertical-align: top;\n",
       "    }\n",
       "\n",
       "    .dataframe thead th {\n",
       "        text-align: right;\n",
       "    }\n",
       "</style>\n",
       "<table border=\"1\" class=\"dataframe\">\n",
       "  <thead>\n",
       "    <tr style=\"text-align: right;\">\n",
       "      <th></th>\n",
       "      <th>id</th>\n",
       "      <th>id_description</th>\n",
       "      <th>medical_specialty_new</th>\n",
       "      <th>text</th>\n",
       "      <th>year</th>\n",
       "      <th>borough</th>\n",
       "      <th>length</th>\n",
       "    </tr>\n",
       "  </thead>\n",
       "  <tbody>\n",
       "    <tr>\n",
       "      <th>0</th>\n",
       "      <td>0</td>\n",
       "      <td>0</td>\n",
       "      <td>Gastroenterology</td>\n",
       "      <td>EGD with photos and biopsies</td>\n",
       "      <td>2013.0</td>\n",
       "      <td>Merton</td>\n",
       "      <td>29</td>\n",
       "    </tr>\n",
       "    <tr>\n",
       "      <th>1</th>\n",
       "      <td>1</td>\n",
       "      <td>0</td>\n",
       "      <td>Gastroenterology</td>\n",
       "      <td>This is a 75-year-old female who presents wit...</td>\n",
       "      <td>2013.0</td>\n",
       "      <td>Merton</td>\n",
       "      <td>106</td>\n",
       "    </tr>\n",
       "    <tr>\n",
       "      <th>2</th>\n",
       "      <td>2</td>\n",
       "      <td>0</td>\n",
       "      <td>Gastroenterology</td>\n",
       "      <td>She has a previous history of hiatal hernia</td>\n",
       "      <td>2013.0</td>\n",
       "      <td>Merton</td>\n",
       "      <td>44</td>\n",
       "    </tr>\n",
       "    <tr>\n",
       "      <th>3</th>\n",
       "      <td>3</td>\n",
       "      <td>0</td>\n",
       "      <td>Gastroenterology</td>\n",
       "      <td>She was on Prevacid currently</td>\n",
       "      <td>2013.0</td>\n",
       "      <td>Merton</td>\n",
       "      <td>30</td>\n",
       "    </tr>\n",
       "    <tr>\n",
       "      <th>4</th>\n",
       "      <td>4</td>\n",
       "      <td>1</td>\n",
       "      <td>Urology</td>\n",
       "      <td>Pelvic tumor, cystocele, rectocele, and uteri...</td>\n",
       "      <td>2013.0</td>\n",
       "      <td>Harrow</td>\n",
       "      <td>56</td>\n",
       "    </tr>\n",
       "  </tbody>\n",
       "</table>\n",
       "</div>"
      ],
      "text/plain": [
       "  id id_description medical_specialty_new  \\\n",
       "0  0              0      Gastroenterology   \n",
       "1  1              0      Gastroenterology   \n",
       "2  2              0      Gastroenterology   \n",
       "3  3              0      Gastroenterology   \n",
       "4  4              1               Urology   \n",
       "\n",
       "                                                text    year borough  length  \n",
       "0                       EGD with photos and biopsies  2013.0  Merton      29  \n",
       "1   This is a 75-year-old female who presents wit...  2013.0  Merton     106  \n",
       "2        She has a previous history of hiatal hernia  2013.0  Merton      44  \n",
       "3                      She was on Prevacid currently  2013.0  Merton      30  \n",
       "4   Pelvic tumor, cystocele, rectocele, and uteri...  2013.0  Harrow      56  "
      ]
     },
     "execution_count": 4,
     "metadata": {},
     "output_type": "execute_result"
    }
   ],
   "source": [
    "data_df.head()"
   ]
  },
  {
   "cell_type": "code",
   "execution_count": 7,
   "id": "632c620b",
   "metadata": {},
   "outputs": [],
   "source": [
    "#Create list with ordered dictionaries of rows\n",
    "sentences = fun.create_ordered_dicts(data_df)"
   ]
  },
  {
   "cell_type": "code",
   "execution_count": 8,
   "id": "713194c9",
   "metadata": {},
   "outputs": [
    {
     "data": {
      "text/plain": [
       "OrderedDict([('id', '0'),\n",
       "             ('id_description', '0'),\n",
       "             ('medical_specialty_new', ' Gastroenterology'),\n",
       "             ('text', ' EGD with photos and biopsies'),\n",
       "             ('year', 2013.0),\n",
       "             ('borough', 'Merton'),\n",
       "             ('length', 29)])"
      ]
     },
     "execution_count": 8,
     "metadata": {},
     "output_type": "execute_result"
    }
   ],
   "source": [
    "sentences[0]"
   ]
  },
  {
   "cell_type": "code",
   "execution_count": 9,
   "id": "944f2ccb",
   "metadata": {},
   "outputs": [],
   "source": [
    "#Initialize the debater clients to use\n",
    "arg_quality_client, keypoints_client, term_wikifier_client = fun.init_quality_keypoints(\"../APIkey.txt\")"
   ]
  },
  {
   "cell_type": "code",
   "execution_count": 10,
   "id": "6b85db7b",
   "metadata": {},
   "outputs": [],
   "source": [
    "#Set a topic for the argument quality service\n",
    "topic = \"Left heart catheterization, left ventriculography, coronary angiography, and successful stenting of tight lesion in the distal circumflex and moderately tight lesion in the mid-right coronary artery.\""
   ]
  },
  {
   "cell_type": "code",
   "execution_count": 11,
   "id": "a49cee3f",
   "metadata": {},
   "outputs": [
    {
     "name": "stderr",
     "output_type": "stream",
     "text": [
      "ArgumentQualityClient: 100%|████████████████| 3245/3245 [00:36<00:00, 88.02it/s]\n"
     ]
    }
   ],
   "source": [
    "#Use the argument quality client to assign scores to the relation of the texts in the database and the topic.\n",
    "# Return the top 1000 scored items.\n",
    "sentences_top_1000_aq = fun.top_1000_sentences(arg_quality_client, topic, sentences)"
   ]
  },
  {
   "cell_type": "code",
   "execution_count": 12,
   "id": "c551659a",
   "metadata": {},
   "outputs": [
    {
     "data": {
      "text/plain": [
       "OrderedDict([('id', '843'),\n",
       "             ('id_description', '863'),\n",
       "             ('medical_specialty_new', ' Cardiovascular / Pulmonary'),\n",
       "             ('text',\n",
       "              ' Cardiac Catheterization - An obese female with a family history of coronary disease and history of chest radiation for Hodgkin disease, presents with an acute myocardial infarction with elevated enzymes.'),\n",
       "             ('year', 2010.0),\n",
       "             ('borough', 'Lewisham'),\n",
       "             ('length', 204)])"
      ]
     },
     "execution_count": 12,
     "metadata": {},
     "output_type": "execute_result"
    }
   ],
   "source": [
    "sentences_top_1000_aq[0]"
   ]
  },
  {
   "cell_type": "code",
   "execution_count": 13,
   "id": "2635c917",
   "metadata": {},
   "outputs": [],
   "source": [
    "#Create structures storing the run parameters, sentences text and sentences ids\n",
    "run_params, sentences_texts, sentences_ids = fun.create_sentence_structs(0.98, 5, sentences_top_1000_aq)"
   ]
  },
  {
   "cell_type": "code",
   "execution_count": 14,
   "id": "82385553",
   "metadata": {},
   "outputs": [],
   "source": [
    "#Run the key points analysis\n",
    "kpa_result, job_id = fun.key_point_analysis(keypoints_client, \"medical_demo2\", run_params, sentences_texts, sentences_ids)"
   ]
  },
  {
   "cell_type": "code",
   "execution_count": 15,
   "id": "15a0d78c",
   "metadata": {},
   "outputs": [
    {
     "data": {
      "text/plain": [
       "'62dd689b8e7da8a7796aa4d9'"
      ]
     },
     "execution_count": 15,
     "metadata": {},
     "output_type": "execute_result"
    }
   ],
   "source": [
    "job_id"
   ]
  },
  {
   "cell_type": "code",
   "execution_count": 16,
   "id": "e48fade9",
   "metadata": {},
   "outputs": [
    {
     "name": "stdout",
     "output_type": "stream",
     "text": [
      "{'domain': 'medical_demo', 'comment_id': '1220', 'sentence_id': 0, 'sents_in_comment': 1, 'span_start': 0, 'span_end': 157, 'num_tokens': 26, 'argument_quality': 0.650917649269104, 'sentence_text': '   The patient is a 1-year-old male with a history of chronic otitis media with effusion and conductive hearing loss refractory to outpatient medical therapy', 'score': 0}\n"
     ]
    }
   ],
   "source": [
    "print(kpa_result[\"keypoint_matchings\"][0][\"matching\"][0])"
   ]
  },
  {
   "cell_type": "code",
   "execution_count": 23,
   "id": "4c50b51d",
   "metadata": {},
   "outputs": [],
   "source": [
    "#Convert kpa result to a dataframe\n",
    "match_df =  fun.kpa_to_dataframe(kpa_result)"
   ]
  },
  {
   "cell_type": "code",
   "execution_count": 24,
   "id": "29705d5d",
   "metadata": {},
   "outputs": [
    {
     "data": {
      "text/html": [
       "<div>\n",
       "<style scoped>\n",
       "    .dataframe tbody tr th:only-of-type {\n",
       "        vertical-align: middle;\n",
       "    }\n",
       "\n",
       "    .dataframe tbody tr th {\n",
       "        vertical-align: top;\n",
       "    }\n",
       "\n",
       "    .dataframe thead th {\n",
       "        text-align: right;\n",
       "    }\n",
       "</style>\n",
       "<table border=\"1\" class=\"dataframe\">\n",
       "  <thead>\n",
       "    <tr style=\"text-align: right;\">\n",
       "      <th></th>\n",
       "      <th>kp</th>\n",
       "      <th>sentence_text</th>\n",
       "      <th>match_score</th>\n",
       "      <th>comment_id</th>\n",
       "      <th>sentence_id</th>\n",
       "      <th>sents_in_comment</th>\n",
       "      <th>span_start</th>\n",
       "      <th>span_end</th>\n",
       "      <th>num_tokens</th>\n",
       "      <th>argument_quality</th>\n",
       "    </tr>\n",
       "  </thead>\n",
       "  <tbody>\n",
       "    <tr>\n",
       "      <th>1</th>\n",
       "      <td>Possible inflammatory bowel disease</td>\n",
       "      <td>Laparoscopic right partial nephrectomy due to...</td>\n",
       "      <td>0.981618</td>\n",
       "      <td>2014</td>\n",
       "      <td>0</td>\n",
       "      <td>1</td>\n",
       "      <td>0</td>\n",
       "      <td>64</td>\n",
       "      <td>9</td>\n",
       "      <td>0.523238</td>\n",
       "    </tr>\n",
       "    <tr>\n",
       "      <th>2</th>\n",
       "      <td>Risk factors for coronary heart disease.</td>\n",
       "      <td>Mild-to-moderate obstructive ventilatory impa...</td>\n",
       "      <td>0.980484</td>\n",
       "      <td>931</td>\n",
       "      <td>0</td>\n",
       "      <td>1</td>\n",
       "      <td>0</td>\n",
       "      <td>52</td>\n",
       "      <td>6</td>\n",
       "      <td>0.570248</td>\n",
       "    </tr>\n",
       "    <tr>\n",
       "      <th>3</th>\n",
       "      <td>Right shoulder impingement syndrome, right su...</td>\n",
       "      <td>Cervical spondylosis and kyphotic deformity</td>\n",
       "      <td>0.980421</td>\n",
       "      <td>2899</td>\n",
       "      <td>0</td>\n",
       "      <td>1</td>\n",
       "      <td>0</td>\n",
       "      <td>44</td>\n",
       "      <td>5</td>\n",
       "      <td>0.534918</td>\n",
       "    </tr>\n",
       "    <tr>\n",
       "      <th>4</th>\n",
       "      <td>Urgent cardiac catheterization with coronary ...</td>\n",
       "      <td>The internal carotid artery had good backflow...</td>\n",
       "      <td>0.980095</td>\n",
       "      <td>2242</td>\n",
       "      <td>0</td>\n",
       "      <td>1</td>\n",
       "      <td>0</td>\n",
       "      <td>62</td>\n",
       "      <td>9</td>\n",
       "      <td>0.463009</td>\n",
       "    </tr>\n",
       "    <tr>\n",
       "      <th>5</th>\n",
       "      <td>Hemoptysis and history of lung cancer</td>\n",
       "      <td>Chronic pelvic pain, probably secondary to e...</td>\n",
       "      <td>0.980687</td>\n",
       "      <td>1688</td>\n",
       "      <td>0</td>\n",
       "      <td>1</td>\n",
       "      <td>0</td>\n",
       "      <td>59</td>\n",
       "      <td>7</td>\n",
       "      <td>0.584735</td>\n",
       "    </tr>\n",
       "  </tbody>\n",
       "</table>\n",
       "</div>"
      ],
      "text/plain": [
       "                                                  kp  \\\n",
       "1                Possible inflammatory bowel disease   \n",
       "2           Risk factors for coronary heart disease.   \n",
       "3   Right shoulder impingement syndrome, right su...   \n",
       "4   Urgent cardiac catheterization with coronary ...   \n",
       "5              Hemoptysis and history of lung cancer   \n",
       "\n",
       "                                       sentence_text  match_score comment_id  \\\n",
       "1   Laparoscopic right partial nephrectomy due to...     0.981618       2014   \n",
       "2   Mild-to-moderate obstructive ventilatory impa...     0.980484        931   \n",
       "3        Cervical spondylosis and kyphotic deformity     0.980421       2899   \n",
       "4   The internal carotid artery had good backflow...     0.980095       2242   \n",
       "5    Chronic pelvic pain, probably secondary to e...     0.980687       1688   \n",
       "\n",
       "   sentence_id  sents_in_comment  span_start  span_end  num_tokens  \\\n",
       "1            0                 1           0        64           9   \n",
       "2            0                 1           0        52           6   \n",
       "3            0                 1           0        44           5   \n",
       "4            0                 1           0        62           9   \n",
       "5            0                 1           0        59           7   \n",
       "\n",
       "   argument_quality  \n",
       "1          0.523238  \n",
       "2          0.570248  \n",
       "3          0.534918  \n",
       "4          0.463009  \n",
       "5          0.584735  "
      ]
     },
     "execution_count": 24,
     "metadata": {},
     "output_type": "execute_result"
    }
   ],
   "source": [
    "match_df.tail()"
   ]
  },
  {
   "cell_type": "code",
   "execution_count": 25,
   "id": "229f6139",
   "metadata": {},
   "outputs": [],
   "source": [
    "#Merge the kpa results with the phrases from the dataset and store it in file\n",
    "fun.merge_kpa(match_df, data_df, \"merge_df.csv\")"
   ]
  },
  {
   "cell_type": "code",
   "execution_count": 26,
   "id": "8d474793",
   "metadata": {},
   "outputs": [
    {
     "data": {
      "text/html": [
       "<div>\n",
       "<style scoped>\n",
       "    .dataframe tbody tr th:only-of-type {\n",
       "        vertical-align: middle;\n",
       "    }\n",
       "\n",
       "    .dataframe tbody tr th {\n",
       "        vertical-align: top;\n",
       "    }\n",
       "\n",
       "    .dataframe thead th {\n",
       "        text-align: right;\n",
       "    }\n",
       "</style>\n",
       "<table border=\"1\" class=\"dataframe\">\n",
       "  <thead>\n",
       "    <tr style=\"text-align: right;\">\n",
       "      <th></th>\n",
       "      <th>kp</th>\n",
       "      <th>sentence_text</th>\n",
       "      <th>match_score</th>\n",
       "      <th>comment_id</th>\n",
       "      <th>sentence_id</th>\n",
       "      <th>sents_in_comment</th>\n",
       "      <th>span_start</th>\n",
       "      <th>span_end</th>\n",
       "      <th>num_tokens</th>\n",
       "      <th>argument_quality</th>\n",
       "      <th>id</th>\n",
       "      <th>id_description</th>\n",
       "      <th>medical_specialty_new</th>\n",
       "    </tr>\n",
       "  </thead>\n",
       "  <tbody>\n",
       "    <tr>\n",
       "      <th>1</th>\n",
       "      <td>Possible inflammatory bowel disease</td>\n",
       "      <td>Laparoscopic right partial nephrectomy due to...</td>\n",
       "      <td>0.981618</td>\n",
       "      <td>2014</td>\n",
       "      <td>0</td>\n",
       "      <td>1</td>\n",
       "      <td>0</td>\n",
       "      <td>64</td>\n",
       "      <td>9</td>\n",
       "      <td>0.523238</td>\n",
       "      <td>2014</td>\n",
       "      <td>1516</td>\n",
       "      <td>Nephrology</td>\n",
       "    </tr>\n",
       "    <tr>\n",
       "      <th>2</th>\n",
       "      <td>Risk factors for coronary heart disease.</td>\n",
       "      <td>Mild-to-moderate obstructive ventilatory impa...</td>\n",
       "      <td>0.980484</td>\n",
       "      <td>931</td>\n",
       "      <td>0</td>\n",
       "      <td>1</td>\n",
       "      <td>0</td>\n",
       "      <td>52</td>\n",
       "      <td>6</td>\n",
       "      <td>0.570248</td>\n",
       "      <td>931</td>\n",
       "      <td>924</td>\n",
       "      <td>Cardiovascular / Pulmonary</td>\n",
       "    </tr>\n",
       "    <tr>\n",
       "      <th>3</th>\n",
       "      <td>Right shoulder impingement syndrome, right su...</td>\n",
       "      <td>Cervical spondylosis and kyphotic deformity</td>\n",
       "      <td>0.980421</td>\n",
       "      <td>2899</td>\n",
       "      <td>0</td>\n",
       "      <td>1</td>\n",
       "      <td>0</td>\n",
       "      <td>44</td>\n",
       "      <td>5</td>\n",
       "      <td>0.534918</td>\n",
       "      <td>2899</td>\n",
       "      <td>2079</td>\n",
       "      <td>Orthopedic</td>\n",
       "    </tr>\n",
       "    <tr>\n",
       "      <th>4</th>\n",
       "      <td>Urgent cardiac catheterization with coronary ...</td>\n",
       "      <td>The internal carotid artery had good backflow...</td>\n",
       "      <td>0.980095</td>\n",
       "      <td>2242</td>\n",
       "      <td>0</td>\n",
       "      <td>1</td>\n",
       "      <td>0</td>\n",
       "      <td>62</td>\n",
       "      <td>9</td>\n",
       "      <td>0.463009</td>\n",
       "      <td>2242</td>\n",
       "      <td>1626</td>\n",
       "      <td>Cardiovascular / Pulmonary</td>\n",
       "    </tr>\n",
       "    <tr>\n",
       "      <th>5</th>\n",
       "      <td>Hemoptysis and history of lung cancer</td>\n",
       "      <td>Chronic pelvic pain, probably secondary to e...</td>\n",
       "      <td>0.980687</td>\n",
       "      <td>1688</td>\n",
       "      <td>0</td>\n",
       "      <td>1</td>\n",
       "      <td>0</td>\n",
       "      <td>59</td>\n",
       "      <td>7</td>\n",
       "      <td>0.584735</td>\n",
       "      <td>1688</td>\n",
       "      <td>1352</td>\n",
       "      <td>Obstetrics / Gynecology</td>\n",
       "    </tr>\n",
       "  </tbody>\n",
       "</table>\n",
       "</div>"
      ],
      "text/plain": [
       "                                                  kp  \\\n",
       "1                Possible inflammatory bowel disease   \n",
       "2           Risk factors for coronary heart disease.   \n",
       "3   Right shoulder impingement syndrome, right su...   \n",
       "4   Urgent cardiac catheterization with coronary ...   \n",
       "5              Hemoptysis and history of lung cancer   \n",
       "\n",
       "                                       sentence_text  match_score  comment_id  \\\n",
       "1   Laparoscopic right partial nephrectomy due to...     0.981618        2014   \n",
       "2   Mild-to-moderate obstructive ventilatory impa...     0.980484         931   \n",
       "3        Cervical spondylosis and kyphotic deformity     0.980421        2899   \n",
       "4   The internal carotid artery had good backflow...     0.980095        2242   \n",
       "5    Chronic pelvic pain, probably secondary to e...     0.980687        1688   \n",
       "\n",
       "   sentence_id  sents_in_comment  span_start  span_end  num_tokens  \\\n",
       "1            0                 1           0        64           9   \n",
       "2            0                 1           0        52           6   \n",
       "3            0                 1           0        44           5   \n",
       "4            0                 1           0        62           9   \n",
       "5            0                 1           0        59           7   \n",
       "\n",
       "   argument_quality    id  id_description        medical_specialty_new  \n",
       "1          0.523238  2014            1516                   Nephrology  \n",
       "2          0.570248   931             924   Cardiovascular / Pulmonary  \n",
       "3          0.534918  2899            2079                   Orthopedic  \n",
       "4          0.463009  2242            1626   Cardiovascular / Pulmonary  \n",
       "5          0.584735  1688            1352      Obstetrics / Gynecology  "
      ]
     },
     "execution_count": 26,
     "metadata": {},
     "output_type": "execute_result"
    }
   ],
   "source": [
    "merge_df = pd.read_csv(\"merge_df.csv\")\n",
    "merge_df.tail()"
   ]
  },
  {
   "cell_type": "markdown",
   "id": "1075a2bb",
   "metadata": {},
   "source": [
    "### Run the dashboard with `streamlit run milestone5.py`"
   ]
  }
 ],
 "metadata": {
  "kernelspec": {
   "display_name": "Python 3 (ipykernel)",
   "language": "python",
   "name": "python3"
  },
  "language_info": {
   "codemirror_mode": {
    "name": "ipython",
    "version": 3
   },
   "file_extension": ".py",
   "mimetype": "text/x-python",
   "name": "python",
   "nbconvert_exporter": "python",
   "pygments_lexer": "ipython3",
   "version": "3.8.10"
  }
 },
 "nbformat": 4,
 "nbformat_minor": 5
}
