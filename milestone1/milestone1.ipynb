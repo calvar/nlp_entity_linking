{
 "cells": [
  {
   "cell_type": "code",
   "execution_count": 86,
   "id": "d66a8e0a",
   "metadata": {},
   "outputs": [],
   "source": [
    "import numpy as np\n",
    "import pandas as pd"
   ]
  },
  {
   "cell_type": "markdown",
   "id": "edf63209",
   "metadata": {},
   "source": [
    "### 1. Load the dataset to a data frame."
   ]
  },
  {
   "cell_type": "code",
   "execution_count": 87,
   "id": "b31fa307",
   "metadata": {},
   "outputs": [],
   "source": [
    "data_df = pd.read_csv(\"../data/mtsamples_descriptions_clean.csv\")"
   ]
  },
  {
   "cell_type": "markdown",
   "id": "8dae21fd",
   "metadata": {},
   "source": [
    "### 2. Check the top rows."
   ]
  },
  {
   "cell_type": "code",
   "execution_count": 88,
   "id": "6b4abb2f",
   "metadata": {},
   "outputs": [
    {
     "data": {
      "text/html": [
       "<div>\n",
       "<style scoped>\n",
       "    .dataframe tbody tr th:only-of-type {\n",
       "        vertical-align: middle;\n",
       "    }\n",
       "\n",
       "    .dataframe tbody tr th {\n",
       "        vertical-align: top;\n",
       "    }\n",
       "\n",
       "    .dataframe thead th {\n",
       "        text-align: right;\n",
       "    }\n",
       "</style>\n",
       "<table border=\"1\" class=\"dataframe\">\n",
       "  <thead>\n",
       "    <tr style=\"text-align: right;\">\n",
       "      <th></th>\n",
       "      <th>id</th>\n",
       "      <th>id_description</th>\n",
       "      <th>medical_specialty_new</th>\n",
       "      <th>text</th>\n",
       "      <th>year</th>\n",
       "      <th>borough</th>\n",
       "    </tr>\n",
       "  </thead>\n",
       "  <tbody>\n",
       "    <tr>\n",
       "      <th>0</th>\n",
       "      <td>0</td>\n",
       "      <td>0</td>\n",
       "      <td>Gastroenterology</td>\n",
       "      <td>EGD with photos and biopsies</td>\n",
       "      <td>2013.0</td>\n",
       "      <td>Merton</td>\n",
       "    </tr>\n",
       "    <tr>\n",
       "      <th>1</th>\n",
       "      <td>1</td>\n",
       "      <td>0</td>\n",
       "      <td>Gastroenterology</td>\n",
       "      <td>This is a 75-year-old female who presents wit...</td>\n",
       "      <td>2013.0</td>\n",
       "      <td>Merton</td>\n",
       "    </tr>\n",
       "    <tr>\n",
       "      <th>2</th>\n",
       "      <td>2</td>\n",
       "      <td>0</td>\n",
       "      <td>Gastroenterology</td>\n",
       "      <td>She has a previous history of hiatal hernia</td>\n",
       "      <td>2013.0</td>\n",
       "      <td>Merton</td>\n",
       "    </tr>\n",
       "    <tr>\n",
       "      <th>3</th>\n",
       "      <td>3</td>\n",
       "      <td>0</td>\n",
       "      <td>Gastroenterology</td>\n",
       "      <td>She was on Prevacid currently</td>\n",
       "      <td>2013.0</td>\n",
       "      <td>Merton</td>\n",
       "    </tr>\n",
       "    <tr>\n",
       "      <th>4</th>\n",
       "      <td>4</td>\n",
       "      <td>1</td>\n",
       "      <td>Urology</td>\n",
       "      <td>Pelvic tumor, cystocele, rectocele, and uteri...</td>\n",
       "      <td>2013.0</td>\n",
       "      <td>Harrow</td>\n",
       "    </tr>\n",
       "  </tbody>\n",
       "</table>\n",
       "</div>"
      ],
      "text/plain": [
       "   id  id_description medical_specialty_new  \\\n",
       "0   0               0      Gastroenterology   \n",
       "1   1               0      Gastroenterology   \n",
       "2   2               0      Gastroenterology   \n",
       "3   3               0      Gastroenterology   \n",
       "4   4               1               Urology   \n",
       "\n",
       "                                                text    year borough  \n",
       "0                       EGD with photos and biopsies  2013.0  Merton  \n",
       "1   This is a 75-year-old female who presents wit...  2013.0  Merton  \n",
       "2        She has a previous history of hiatal hernia  2013.0  Merton  \n",
       "3                      She was on Prevacid currently  2013.0  Merton  \n",
       "4   Pelvic tumor, cystocele, rectocele, and uteri...  2013.0  Harrow  "
      ]
     },
     "execution_count": 88,
     "metadata": {},
     "output_type": "execute_result"
    }
   ],
   "source": [
    "data_df.head()"
   ]
  },
  {
   "cell_type": "markdown",
   "id": "65e47b0e",
   "metadata": {},
   "source": [
    "### 3. Check for duplicate rows in the id column."
   ]
  },
  {
   "cell_type": "code",
   "execution_count": 89,
   "id": "4acdccb4",
   "metadata": {},
   "outputs": [
    {
     "data": {
      "text/html": [
       "<div>\n",
       "<style scoped>\n",
       "    .dataframe tbody tr th:only-of-type {\n",
       "        vertical-align: middle;\n",
       "    }\n",
       "\n",
       "    .dataframe tbody tr th {\n",
       "        vertical-align: top;\n",
       "    }\n",
       "\n",
       "    .dataframe thead th {\n",
       "        text-align: right;\n",
       "    }\n",
       "</style>\n",
       "<table border=\"1\" class=\"dataframe\">\n",
       "  <thead>\n",
       "    <tr style=\"text-align: right;\">\n",
       "      <th></th>\n",
       "      <th>id</th>\n",
       "      <th>id_description</th>\n",
       "      <th>medical_specialty_new</th>\n",
       "      <th>text</th>\n",
       "      <th>year</th>\n",
       "      <th>borough</th>\n",
       "    </tr>\n",
       "  </thead>\n",
       "  <tbody>\n",
       "    <tr>\n",
       "      <th>0</th>\n",
       "      <td>0</td>\n",
       "      <td>0</td>\n",
       "      <td>Gastroenterology</td>\n",
       "      <td>EGD with photos and biopsies</td>\n",
       "      <td>2013.0</td>\n",
       "      <td>Merton</td>\n",
       "    </tr>\n",
       "    <tr>\n",
       "      <th>1</th>\n",
       "      <td>1</td>\n",
       "      <td>0</td>\n",
       "      <td>Gastroenterology</td>\n",
       "      <td>This is a 75-year-old female who presents wit...</td>\n",
       "      <td>2013.0</td>\n",
       "      <td>Merton</td>\n",
       "    </tr>\n",
       "    <tr>\n",
       "      <th>2</th>\n",
       "      <td>2</td>\n",
       "      <td>0</td>\n",
       "      <td>Gastroenterology</td>\n",
       "      <td>She has a previous history of hiatal hernia</td>\n",
       "      <td>2013.0</td>\n",
       "      <td>Merton</td>\n",
       "    </tr>\n",
       "    <tr>\n",
       "      <th>3</th>\n",
       "      <td>3</td>\n",
       "      <td>0</td>\n",
       "      <td>Gastroenterology</td>\n",
       "      <td>She was on Prevacid currently</td>\n",
       "      <td>2013.0</td>\n",
       "      <td>Merton</td>\n",
       "    </tr>\n",
       "    <tr>\n",
       "      <th>4</th>\n",
       "      <td>4</td>\n",
       "      <td>1</td>\n",
       "      <td>Urology</td>\n",
       "      <td>Pelvic tumor, cystocele, rectocele, and uteri...</td>\n",
       "      <td>2013.0</td>\n",
       "      <td>Harrow</td>\n",
       "    </tr>\n",
       "    <tr>\n",
       "      <th>...</th>\n",
       "      <td>...</td>\n",
       "      <td>...</td>\n",
       "      <td>...</td>\n",
       "      <td>...</td>\n",
       "      <td>...</td>\n",
       "      <td>...</td>\n",
       "    </tr>\n",
       "    <tr>\n",
       "      <th>3243</th>\n",
       "      <td>3243</td>\n",
       "      <td>2356</td>\n",
       "      <td>Ophthalmology</td>\n",
       "      <td>Patient referred for narrow angles and possib...</td>\n",
       "      <td>2010.0</td>\n",
       "      <td>Hounslow</td>\n",
       "    </tr>\n",
       "    <tr>\n",
       "      <th>3244</th>\n",
       "      <td>3244</td>\n",
       "      <td>2357</td>\n",
       "      <td>Dentistry</td>\n",
       "      <td>Letter on evaluation regarding extraction of ...</td>\n",
       "      <td>2016.0</td>\n",
       "      <td>City of London</td>\n",
       "    </tr>\n",
       "    <tr>\n",
       "      <th>3245</th>\n",
       "      <td>3245</td>\n",
       "      <td>2358</td>\n",
       "      <td>Neurology</td>\n",
       "      <td>Patient seen in Neuro-Oncology Clinic because...</td>\n",
       "      <td>2010.0</td>\n",
       "      <td>Kensington and Chelsea</td>\n",
       "    </tr>\n",
       "    <tr>\n",
       "      <th>3246</th>\n",
       "      <td>3246</td>\n",
       "      <td>2359</td>\n",
       "      <td>Gastroenterology</td>\n",
       "      <td>Common description of EGD.</td>\n",
       "      <td>2016.0</td>\n",
       "      <td>Newham</td>\n",
       "    </tr>\n",
       "    <tr>\n",
       "      <th>3247</th>\n",
       "      <td>3247</td>\n",
       "      <td>2360</td>\n",
       "      <td>Gastroenterology</td>\n",
       "      <td>Common description of EGD.</td>\n",
       "      <td>NaN</td>\n",
       "      <td>NaN</td>\n",
       "    </tr>\n",
       "  </tbody>\n",
       "</table>\n",
       "<p>3248 rows × 6 columns</p>\n",
       "</div>"
      ],
      "text/plain": [
       "        id  id_description medical_specialty_new  \\\n",
       "0        0               0      Gastroenterology   \n",
       "1        1               0      Gastroenterology   \n",
       "2        2               0      Gastroenterology   \n",
       "3        3               0      Gastroenterology   \n",
       "4        4               1               Urology   \n",
       "...    ...             ...                   ...   \n",
       "3243  3243            2356         Ophthalmology   \n",
       "3244  3244            2357             Dentistry   \n",
       "3245  3245            2358             Neurology   \n",
       "3246  3246            2359      Gastroenterology   \n",
       "3247  3247            2360      Gastroenterology   \n",
       "\n",
       "                                                   text    year  \\\n",
       "0                          EGD with photos and biopsies  2013.0   \n",
       "1      This is a 75-year-old female who presents wit...  2013.0   \n",
       "2           She has a previous history of hiatal hernia  2013.0   \n",
       "3                         She was on Prevacid currently  2013.0   \n",
       "4      Pelvic tumor, cystocele, rectocele, and uteri...  2013.0   \n",
       "...                                                 ...     ...   \n",
       "3243   Patient referred for narrow angles and possib...  2010.0   \n",
       "3244   Letter on evaluation regarding extraction of ...  2016.0   \n",
       "3245   Patient seen in Neuro-Oncology Clinic because...  2010.0   \n",
       "3246                         Common description of EGD.  2016.0   \n",
       "3247                         Common description of EGD.     NaN   \n",
       "\n",
       "                     borough  \n",
       "0                     Merton  \n",
       "1                     Merton  \n",
       "2                     Merton  \n",
       "3                     Merton  \n",
       "4                     Harrow  \n",
       "...                      ...  \n",
       "3243                Hounslow  \n",
       "3244          City of London  \n",
       "3245  Kensington and Chelsea  \n",
       "3246                  Newham  \n",
       "3247                     NaN  \n",
       "\n",
       "[3248 rows x 6 columns]"
      ]
     },
     "execution_count": 89,
     "metadata": {},
     "output_type": "execute_result"
    }
   ],
   "source": [
    "data_df.sort_values(\"id\")"
   ]
  },
  {
   "cell_type": "code",
   "execution_count": 90,
   "id": "09fd1393",
   "metadata": {},
   "outputs": [
    {
     "data": {
      "text/plain": [
       "0    False\n",
       "1    False\n",
       "2    False\n",
       "3    False\n",
       "4    False\n",
       "5    False\n",
       "6    False\n",
       "7    False\n",
       "8    False\n",
       "9    False\n",
       "Name: id, dtype: bool"
      ]
     },
     "execution_count": 90,
     "metadata": {},
     "output_type": "execute_result"
    }
   ],
   "source": [
    "data_df[\"id\"].duplicated().head(10)"
   ]
  },
  {
   "cell_type": "code",
   "execution_count": 91,
   "id": "a77cdf3a",
   "metadata": {},
   "outputs": [
    {
     "data": {
      "text/plain": [
       "0"
      ]
     },
     "execution_count": 91,
     "metadata": {},
     "output_type": "execute_result"
    }
   ],
   "source": [
    "data_df[data_df[\"id\"].duplicated()].shape[0]"
   ]
  },
  {
   "cell_type": "markdown",
   "id": "972e431d",
   "metadata": {},
   "source": [
    "There are no duplicated values in the \"id\" column. They are unique."
   ]
  },
  {
   "cell_type": "markdown",
   "id": "4d56dfbe",
   "metadata": {},
   "source": [
    "### 4. Check how many rows in each column have missing values."
   ]
  },
  {
   "cell_type": "code",
   "execution_count": 92,
   "id": "04be30e2",
   "metadata": {},
   "outputs": [],
   "source": [
    "#Just in case there is something resulting from a division by 0 or similar.\n",
    "pd.options.mode.use_inf_as_na = True"
   ]
  },
  {
   "cell_type": "code",
   "execution_count": 93,
   "id": "b39ac6ac",
   "metadata": {},
   "outputs": [
    {
     "name": "stdout",
     "output_type": "stream",
     "text": [
      "Total number of rows: 3248.\n",
      "Column 'id' has 0 missing values.\n",
      "Column 'id_description' has 0 missing values.\n",
      "Column 'medical_specialty_new' has 1 missing values.\n",
      "Column 'text' has 1 missing values.\n",
      "Column 'year' has 1 missing values.\n",
      "Column 'borough' has 1 missing values.\n"
     ]
    }
   ],
   "source": [
    "print(\"Total number of rows: %d.\" % (data_df.shape[0]))\n",
    "for col in data_df:\n",
    "    N_missing = data_df[data_df[col].isna()].shape[0]\n",
    "    print(\"Column '%s' has %d missing values.\" % (col, N_missing))"
   ]
  },
  {
   "cell_type": "markdown",
   "id": "5a65086e",
   "metadata": {},
   "source": [
    "### 5. Remove the rows with missing values."
   ]
  },
  {
   "cell_type": "code",
   "execution_count": 94,
   "id": "4c0f332b",
   "metadata": {},
   "outputs": [],
   "source": [
    "nonmiss_df = data_df.dropna()"
   ]
  },
  {
   "cell_type": "code",
   "execution_count": 95,
   "id": "a55a87dd",
   "metadata": {},
   "outputs": [
    {
     "name": "stdout",
     "output_type": "stream",
     "text": [
      "Total number of rows: 3245.\n",
      "Column 'id' has 0 missing values.\n",
      "Column 'id_description' has 0 missing values.\n",
      "Column 'medical_specialty_new' has 0 missing values.\n",
      "Column 'text' has 0 missing values.\n",
      "Column 'year' has 0 missing values.\n",
      "Column 'borough' has 0 missing values.\n"
     ]
    }
   ],
   "source": [
    "print(\"Total number of rows: %d.\" % (nonmiss_df.shape[0]))\n",
    "for col in data_df:\n",
    "    N_missing = nonmiss_df[nonmiss_df[col].isna()].shape[0]\n",
    "    print(\"Column '%s' has %d missing values.\" % (col, N_missing))"
   ]
  },
  {
   "cell_type": "markdown",
   "id": "a1f4f8d5",
   "metadata": {},
   "source": [
    "### 6. See if there are weird values in the 'year' column"
   ]
  },
  {
   "cell_type": "code",
   "execution_count": 96,
   "id": "fcfc7224",
   "metadata": {},
   "outputs": [
    {
     "data": {
      "text/plain": [
       "count    3245.000000\n",
       "mean     2013.075809\n",
       "std         2.405639\n",
       "min      2010.000000\n",
       "25%      2010.000000\n",
       "50%      2013.000000\n",
       "75%      2016.000000\n",
       "max      2016.000000\n",
       "Name: year, dtype: float64"
      ]
     },
     "execution_count": 96,
     "metadata": {},
     "output_type": "execute_result"
    }
   ],
   "source": [
    "nonmiss_df[\"year\"].describe()"
   ]
  },
  {
   "cell_type": "markdown",
   "id": "6b845906",
   "metadata": {},
   "source": [
    "year values range from 2010 to 2016, which are valid values."
   ]
  },
  {
   "cell_type": "code",
   "execution_count": 97,
   "id": "7b6701d4",
   "metadata": {},
   "outputs": [
    {
     "data": {
      "text/plain": [
       "0"
      ]
     },
     "execution_count": 97,
     "metadata": {},
     "output_type": "execute_result"
    }
   ],
   "source": [
    "nonmiss_df[\"year\"][nonmiss_df[\"year\"].apply(lambda x: x-np.floor(x) != 0)].count()"
   ]
  },
  {
   "cell_type": "markdown",
   "id": "0eba0175",
   "metadata": {},
   "source": [
    "All year values are integer."
   ]
  },
  {
   "cell_type": "markdown",
   "id": "0a720413",
   "metadata": {},
   "source": [
    "### 7. Show the 10 most frequent values in 'medical_speciality_new'"
   ]
  },
  {
   "cell_type": "code",
   "execution_count": 98,
   "id": "3033b1e9",
   "metadata": {},
   "outputs": [
    {
     "data": {
      "text/plain": [
       " Orthopedic                    475\n",
       " Radiology                     366\n",
       " Cardiovascular / Pulmonary    355\n",
       " Gastroenterology              333\n",
       " Obstetrics / Gynecology       233\n",
       " Urology                       228\n",
       " General Medicine              197\n",
       " Ophthalmology                 129\n",
       " ENT - Otolaryngology          124\n",
       " Surgery                        92\n",
       "Name: medical_specialty_new, dtype: int64"
      ]
     },
     "execution_count": 98,
     "metadata": {},
     "output_type": "execute_result"
    }
   ],
   "source": [
    "nonmiss_df[\"medical_specialty_new\"].value_counts().head(10)"
   ]
  },
  {
   "cell_type": "markdown",
   "id": "60a7e26d",
   "metadata": {},
   "source": [
    "These are the values we'll use for modeling."
   ]
  },
  {
   "cell_type": "markdown",
   "id": "672b4791",
   "metadata": {},
   "source": [
    "### 8. Show the 10 most frequent values in 'text' column"
   ]
  },
  {
   "cell_type": "code",
   "execution_count": 99,
   "id": "95abea28",
   "metadata": {},
   "outputs": [
    {
     "data": {
      "text/plain": [
       " Laparoscopic appendectomy                                       7\n",
       " Colonoscopy                                                     5\n",
       " Laparoscopic cholecystectomy                                    5\n",
       " Cataract, right eye                                             5\n",
       " Normal review of systems template                               4\n",
       " Circumcision                                                    3\n",
       " Sample progress note - Gen Med.                                 3\n",
       " Normal nuclear myocardial perfusion scan.                       3\n",
       " An example/template for a routine normal male physical exam.    3\n",
       " Normal physical exam template                                   3\n",
       "Name: text, dtype: int64"
      ]
     },
     "execution_count": 99,
     "metadata": {},
     "output_type": "execute_result"
    }
   ],
   "source": [
    "nonmiss_df[\"text\"].value_counts().head(10)"
   ]
  },
  {
   "cell_type": "markdown",
   "id": "43f58fbd",
   "metadata": {},
   "source": [
    "These values will be used for natural language processing."
   ]
  },
  {
   "cell_type": "markdown",
   "id": "7b64a690",
   "metadata": {},
   "source": [
    "### 9. Add a'length' column with the length of the 'text'"
   ]
  },
  {
   "cell_type": "code",
   "execution_count": 102,
   "id": "43b5c86d",
   "metadata": {},
   "outputs": [],
   "source": [
    "final_df = nonmiss_df.copy()\n",
    "final_df[\"length\"] = nonmiss_df[\"text\"].apply(lambda x: len(x))"
   ]
  },
  {
   "cell_type": "code",
   "execution_count": 103,
   "id": "4be8b751",
   "metadata": {},
   "outputs": [
    {
     "data": {
      "text/html": [
       "<div>\n",
       "<style scoped>\n",
       "    .dataframe tbody tr th:only-of-type {\n",
       "        vertical-align: middle;\n",
       "    }\n",
       "\n",
       "    .dataframe tbody tr th {\n",
       "        vertical-align: top;\n",
       "    }\n",
       "\n",
       "    .dataframe thead th {\n",
       "        text-align: right;\n",
       "    }\n",
       "</style>\n",
       "<table border=\"1\" class=\"dataframe\">\n",
       "  <thead>\n",
       "    <tr style=\"text-align: right;\">\n",
       "      <th></th>\n",
       "      <th>id</th>\n",
       "      <th>id_description</th>\n",
       "      <th>medical_specialty_new</th>\n",
       "      <th>text</th>\n",
       "      <th>year</th>\n",
       "      <th>borough</th>\n",
       "      <th>length</th>\n",
       "    </tr>\n",
       "  </thead>\n",
       "  <tbody>\n",
       "    <tr>\n",
       "      <th>0</th>\n",
       "      <td>0</td>\n",
       "      <td>0</td>\n",
       "      <td>Gastroenterology</td>\n",
       "      <td>EGD with photos and biopsies</td>\n",
       "      <td>2013.0</td>\n",
       "      <td>Merton</td>\n",
       "      <td>29</td>\n",
       "    </tr>\n",
       "    <tr>\n",
       "      <th>1</th>\n",
       "      <td>1</td>\n",
       "      <td>0</td>\n",
       "      <td>Gastroenterology</td>\n",
       "      <td>This is a 75-year-old female who presents wit...</td>\n",
       "      <td>2013.0</td>\n",
       "      <td>Merton</td>\n",
       "      <td>106</td>\n",
       "    </tr>\n",
       "    <tr>\n",
       "      <th>2</th>\n",
       "      <td>2</td>\n",
       "      <td>0</td>\n",
       "      <td>Gastroenterology</td>\n",
       "      <td>She has a previous history of hiatal hernia</td>\n",
       "      <td>2013.0</td>\n",
       "      <td>Merton</td>\n",
       "      <td>44</td>\n",
       "    </tr>\n",
       "    <tr>\n",
       "      <th>3</th>\n",
       "      <td>3</td>\n",
       "      <td>0</td>\n",
       "      <td>Gastroenterology</td>\n",
       "      <td>She was on Prevacid currently</td>\n",
       "      <td>2013.0</td>\n",
       "      <td>Merton</td>\n",
       "      <td>30</td>\n",
       "    </tr>\n",
       "    <tr>\n",
       "      <th>4</th>\n",
       "      <td>4</td>\n",
       "      <td>1</td>\n",
       "      <td>Urology</td>\n",
       "      <td>Pelvic tumor, cystocele, rectocele, and uteri...</td>\n",
       "      <td>2013.0</td>\n",
       "      <td>Harrow</td>\n",
       "      <td>56</td>\n",
       "    </tr>\n",
       "    <tr>\n",
       "      <th>...</th>\n",
       "      <td>...</td>\n",
       "      <td>...</td>\n",
       "      <td>...</td>\n",
       "      <td>...</td>\n",
       "      <td>...</td>\n",
       "      <td>...</td>\n",
       "      <td>...</td>\n",
       "    </tr>\n",
       "    <tr>\n",
       "      <th>3242</th>\n",
       "      <td>3242</td>\n",
       "      <td>2355</td>\n",
       "      <td>Ophthalmology</td>\n",
       "      <td>The patient was referred for evaluation of ca...</td>\n",
       "      <td>2010.0</td>\n",
       "      <td>Newham</td>\n",
       "      <td>65</td>\n",
       "    </tr>\n",
       "    <tr>\n",
       "      <th>3243</th>\n",
       "      <td>3243</td>\n",
       "      <td>2356</td>\n",
       "      <td>Ophthalmology</td>\n",
       "      <td>Patient referred for narrow angles and possib...</td>\n",
       "      <td>2010.0</td>\n",
       "      <td>Hounslow</td>\n",
       "      <td>69</td>\n",
       "    </tr>\n",
       "    <tr>\n",
       "      <th>3244</th>\n",
       "      <td>3244</td>\n",
       "      <td>2357</td>\n",
       "      <td>Dentistry</td>\n",
       "      <td>Letter on evaluation regarding extraction of ...</td>\n",
       "      <td>2016.0</td>\n",
       "      <td>City of London</td>\n",
       "      <td>85</td>\n",
       "    </tr>\n",
       "    <tr>\n",
       "      <th>3245</th>\n",
       "      <td>3245</td>\n",
       "      <td>2358</td>\n",
       "      <td>Neurology</td>\n",
       "      <td>Patient seen in Neuro-Oncology Clinic because...</td>\n",
       "      <td>2010.0</td>\n",
       "      <td>Kensington and Chelsea</td>\n",
       "      <td>124</td>\n",
       "    </tr>\n",
       "    <tr>\n",
       "      <th>3246</th>\n",
       "      <td>3246</td>\n",
       "      <td>2359</td>\n",
       "      <td>Gastroenterology</td>\n",
       "      <td>Common description of EGD.</td>\n",
       "      <td>2016.0</td>\n",
       "      <td>Newham</td>\n",
       "      <td>27</td>\n",
       "    </tr>\n",
       "  </tbody>\n",
       "</table>\n",
       "<p>3245 rows × 7 columns</p>\n",
       "</div>"
      ],
      "text/plain": [
       "        id  id_description medical_specialty_new  \\\n",
       "0        0               0      Gastroenterology   \n",
       "1        1               0      Gastroenterology   \n",
       "2        2               0      Gastroenterology   \n",
       "3        3               0      Gastroenterology   \n",
       "4        4               1               Urology   \n",
       "...    ...             ...                   ...   \n",
       "3242  3242            2355         Ophthalmology   \n",
       "3243  3243            2356         Ophthalmology   \n",
       "3244  3244            2357             Dentistry   \n",
       "3245  3245            2358             Neurology   \n",
       "3246  3246            2359      Gastroenterology   \n",
       "\n",
       "                                                   text    year  \\\n",
       "0                          EGD with photos and biopsies  2013.0   \n",
       "1      This is a 75-year-old female who presents wit...  2013.0   \n",
       "2           She has a previous history of hiatal hernia  2013.0   \n",
       "3                         She was on Prevacid currently  2013.0   \n",
       "4      Pelvic tumor, cystocele, rectocele, and uteri...  2013.0   \n",
       "...                                                 ...     ...   \n",
       "3242   The patient was referred for evaluation of ca...  2010.0   \n",
       "3243   Patient referred for narrow angles and possib...  2010.0   \n",
       "3244   Letter on evaluation regarding extraction of ...  2016.0   \n",
       "3245   Patient seen in Neuro-Oncology Clinic because...  2010.0   \n",
       "3246                         Common description of EGD.  2016.0   \n",
       "\n",
       "                     borough  length  \n",
       "0                     Merton      29  \n",
       "1                     Merton     106  \n",
       "2                     Merton      44  \n",
       "3                     Merton      30  \n",
       "4                     Harrow      56  \n",
       "...                      ...     ...  \n",
       "3242                  Newham      65  \n",
       "3243                Hounslow      69  \n",
       "3244          City of London      85  \n",
       "3245  Kensington and Chelsea     124  \n",
       "3246                  Newham      27  \n",
       "\n",
       "[3245 rows x 7 columns]"
      ]
     },
     "execution_count": 103,
     "metadata": {},
     "output_type": "execute_result"
    }
   ],
   "source": [
    "final_df"
   ]
  }
 ],
 "metadata": {
  "kernelspec": {
   "display_name": "Python 3 (ipykernel)",
   "language": "python",
   "name": "python3"
  },
  "language_info": {
   "codemirror_mode": {
    "name": "ipython",
    "version": 3
   },
   "file_extension": ".py",
   "mimetype": "text/x-python",
   "name": "python",
   "nbconvert_exporter": "python",
   "pygments_lexer": "ipython3",
   "version": "3.8.10"
  }
 },
 "nbformat": 4,
 "nbformat_minor": 5
}
