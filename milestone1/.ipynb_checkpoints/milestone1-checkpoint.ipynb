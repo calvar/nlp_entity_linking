{
 "cells": [
  {
   "cell_type": "code",
   "execution_count": 1,
   "id": "aeb15799-08a8-4b63-8b3c-65f19b087660",
   "metadata": {},
   "outputs": [],
   "source": [
    "import numpy as np\n",
    "import pandas as pd"
   ]
  },
  {
   "cell_type": "markdown",
   "id": "c3615086-62bd-497b-ad78-c3479cb3df25",
   "metadata": {},
   "source": [
    "1. Load the dataset to a data frame."
   ]
  },
  {
   "cell_type": "code",
   "execution_count": 2,
   "id": "79b947ac-06d1-499a-8467-c9a67255bbc6",
   "metadata": {},
   "outputs": [
    {
     "data": {
      "text/html": [
       "<div>\n",
       "<style scoped>\n",
       "    .dataframe tbody tr th:only-of-type {\n",
       "        vertical-align: middle;\n",
       "    }\n",
       "\n",
       "    .dataframe tbody tr th {\n",
       "        vertical-align: top;\n",
       "    }\n",
       "\n",
       "    .dataframe thead th {\n",
       "        text-align: right;\n",
       "    }\n",
       "</style>\n",
       "<table border=\"1\" class=\"dataframe\">\n",
       "  <thead>\n",
       "    <tr style=\"text-align: right;\">\n",
       "      <th></th>\n",
       "      <th>id</th>\n",
       "      <th>id_description</th>\n",
       "      <th>medical_specialty_new</th>\n",
       "      <th>text</th>\n",
       "      <th>year</th>\n",
       "      <th>borough</th>\n",
       "    </tr>\n",
       "  </thead>\n",
       "  <tbody>\n",
       "    <tr>\n",
       "      <th>0</th>\n",
       "      <td>0</td>\n",
       "      <td>0</td>\n",
       "      <td>Gastroenterology</td>\n",
       "      <td>EGD with photos and biopsies</td>\n",
       "      <td>2013.0</td>\n",
       "      <td>Merton</td>\n",
       "    </tr>\n",
       "    <tr>\n",
       "      <th>1</th>\n",
       "      <td>1</td>\n",
       "      <td>0</td>\n",
       "      <td>Gastroenterology</td>\n",
       "      <td>This is a 75-year-old female who presents wit...</td>\n",
       "      <td>2013.0</td>\n",
       "      <td>Merton</td>\n",
       "    </tr>\n",
       "    <tr>\n",
       "      <th>2</th>\n",
       "      <td>2</td>\n",
       "      <td>0</td>\n",
       "      <td>Gastroenterology</td>\n",
       "      <td>She has a previous history of hiatal hernia</td>\n",
       "      <td>2013.0</td>\n",
       "      <td>Merton</td>\n",
       "    </tr>\n",
       "    <tr>\n",
       "      <th>3</th>\n",
       "      <td>3</td>\n",
       "      <td>0</td>\n",
       "      <td>Gastroenterology</td>\n",
       "      <td>She was on Prevacid currently</td>\n",
       "      <td>2013.0</td>\n",
       "      <td>Merton</td>\n",
       "    </tr>\n",
       "    <tr>\n",
       "      <th>4</th>\n",
       "      <td>4</td>\n",
       "      <td>1</td>\n",
       "      <td>Urology</td>\n",
       "      <td>Pelvic tumor, cystocele, rectocele, and uteri...</td>\n",
       "      <td>2013.0</td>\n",
       "      <td>Harrow</td>\n",
       "    </tr>\n",
       "  </tbody>\n",
       "</table>\n",
       "</div>"
      ],
      "text/plain": [
       "   id  id_description medical_specialty_new  \\\n",
       "0   0               0      Gastroenterology   \n",
       "1   1               0      Gastroenterology   \n",
       "2   2               0      Gastroenterology   \n",
       "3   3               0      Gastroenterology   \n",
       "4   4               1               Urology   \n",
       "\n",
       "                                                text    year borough  \n",
       "0                       EGD with photos and biopsies  2013.0  Merton  \n",
       "1   This is a 75-year-old female who presents wit...  2013.0  Merton  \n",
       "2        She has a previous history of hiatal hernia  2013.0  Merton  \n",
       "3                      She was on Prevacid currently  2013.0  Merton  \n",
       "4   Pelvic tumor, cystocele, rectocele, and uteri...  2013.0  Harrow  "
      ]
     },
     "execution_count": 2,
     "metadata": {},
     "output_type": "execute_result"
    }
   ],
   "source": [
    "data = pd.read_csv(\"../data/mtsamples_descriptions_clean.csv\")\n",
    "data.head()"
   ]
  }
 ],
 "metadata": {
  "kernelspec": {
   "display_name": "Python 3 (ipykernel)",
   "language": "python",
   "name": "python3"
  },
  "language_info": {
   "codemirror_mode": {
    "name": "ipython",
    "version": 3
   },
   "file_extension": ".py",
   "mimetype": "text/x-python",
   "name": "python",
   "nbconvert_exporter": "python",
   "pygments_lexer": "ipython3",
   "version": "3.8.10"
  }
 },
 "nbformat": 4,
 "nbformat_minor": 5
}
