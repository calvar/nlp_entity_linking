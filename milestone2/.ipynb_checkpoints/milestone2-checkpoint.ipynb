{
 "cells": [
  {
   "cell_type": "code",
   "execution_count": 48,
   "metadata": {},
   "outputs": [],
   "source": [
    "import numpy as np\n",
    "import pandas as pd"
   ]
  },
  {
   "cell_type": "markdown",
   "metadata": {},
   "source": [
    "### 1. Load the dataset and remove rows with null values "
   ]
  },
  {
   "cell_type": "code",
   "execution_count": 49,
   "metadata": {},
   "outputs": [
    {
     "data": {
      "text/html": [
       "<div>\n",
       "<style scoped>\n",
       "    .dataframe tbody tr th:only-of-type {\n",
       "        vertical-align: middle;\n",
       "    }\n",
       "\n",
       "    .dataframe tbody tr th {\n",
       "        vertical-align: top;\n",
       "    }\n",
       "\n",
       "    .dataframe thead th {\n",
       "        text-align: right;\n",
       "    }\n",
       "</style>\n",
       "<table border=\"1\" class=\"dataframe\">\n",
       "  <thead>\n",
       "    <tr style=\"text-align: right;\">\n",
       "      <th></th>\n",
       "      <th>id</th>\n",
       "      <th>id_description</th>\n",
       "      <th>medical_specialty_new</th>\n",
       "      <th>text</th>\n",
       "      <th>year</th>\n",
       "      <th>borough</th>\n",
       "      <th>length</th>\n",
       "    </tr>\n",
       "  </thead>\n",
       "  <tbody>\n",
       "    <tr>\n",
       "      <th>0</th>\n",
       "      <td>0</td>\n",
       "      <td>0</td>\n",
       "      <td>Gastroenterology</td>\n",
       "      <td>EGD with photos and biopsies</td>\n",
       "      <td>2013.0</td>\n",
       "      <td>Merton</td>\n",
       "      <td>29</td>\n",
       "    </tr>\n",
       "    <tr>\n",
       "      <th>1</th>\n",
       "      <td>1</td>\n",
       "      <td>0</td>\n",
       "      <td>Gastroenterology</td>\n",
       "      <td>This is a 75-year-old female who presents wit...</td>\n",
       "      <td>2013.0</td>\n",
       "      <td>Merton</td>\n",
       "      <td>106</td>\n",
       "    </tr>\n",
       "    <tr>\n",
       "      <th>2</th>\n",
       "      <td>2</td>\n",
       "      <td>0</td>\n",
       "      <td>Gastroenterology</td>\n",
       "      <td>She has a previous history of hiatal hernia</td>\n",
       "      <td>2013.0</td>\n",
       "      <td>Merton</td>\n",
       "      <td>44</td>\n",
       "    </tr>\n",
       "    <tr>\n",
       "      <th>3</th>\n",
       "      <td>3</td>\n",
       "      <td>0</td>\n",
       "      <td>Gastroenterology</td>\n",
       "      <td>She was on Prevacid currently</td>\n",
       "      <td>2013.0</td>\n",
       "      <td>Merton</td>\n",
       "      <td>30</td>\n",
       "    </tr>\n",
       "    <tr>\n",
       "      <th>4</th>\n",
       "      <td>4</td>\n",
       "      <td>1</td>\n",
       "      <td>Urology</td>\n",
       "      <td>Pelvic tumor, cystocele, rectocele, and uteri...</td>\n",
       "      <td>2013.0</td>\n",
       "      <td>Harrow</td>\n",
       "      <td>56</td>\n",
       "    </tr>\n",
       "  </tbody>\n",
       "</table>\n",
       "</div>"
      ],
      "text/plain": [
       "   id  id_description medical_specialty_new  \\\n",
       "0   0               0      Gastroenterology   \n",
       "1   1               0      Gastroenterology   \n",
       "2   2               0      Gastroenterology   \n",
       "3   3               0      Gastroenterology   \n",
       "4   4               1               Urology   \n",
       "\n",
       "                                                text    year borough  length  \n",
       "0                       EGD with photos and biopsies  2013.0  Merton      29  \n",
       "1   This is a 75-year-old female who presents wit...  2013.0  Merton     106  \n",
       "2        She has a previous history of hiatal hernia  2013.0  Merton      44  \n",
       "3                      She was on Prevacid currently  2013.0  Merton      30  \n",
       "4   Pelvic tumor, cystocele, rectocele, and uteri...  2013.0  Harrow      56  "
      ]
     },
     "execution_count": 49,
     "metadata": {},
     "output_type": "execute_result"
    }
   ],
   "source": [
    "data_df = pd.read_csv(\"../data/mtsamples_descriptions_clean.csv\")\n",
    "nonmiss_df = data_df.dropna()\n",
    "dataset = nonmiss_df.copy()\n",
    "dataset[\"length\"] = nonmiss_df[\"text\"].apply(lambda x: len(x))\n",
    "dataset.head()"
   ]
  },
  {
   "cell_type": "markdown",
   "metadata": {},
   "source": [
    "### 2. Transform the identifiers to strings"
   ]
  },
  {
   "cell_type": "code",
   "execution_count": 50,
   "metadata": {},
   "outputs": [],
   "source": [
    "dataset[\"id\"] = dataset[\"id\"].astype(str)\n",
    "dataset[\"id_description\"] = dataset[\"id_description\"].astype(str)"
   ]
  },
  {
   "cell_type": "markdown",
   "metadata": {},
   "source": [
    "### 3. Reshape dataset to use with the API"
   ]
  },
  {
   "cell_type": "markdown",
   "metadata": {},
   "source": [
    "### 4. Create a list where each element is an ordered dictionary of a row of the data set"
   ]
  },
  {
   "cell_type": "code",
   "execution_count": 51,
   "metadata": {},
   "outputs": [],
   "source": [
    "from collections import OrderedDict"
   ]
  },
  {
   "cell_type": "code",
   "execution_count": 52,
   "metadata": {},
   "outputs": [],
   "source": [
    "sentences = dataset.to_dict(into=OrderedDict, orient=\"records\")"
   ]
  },
  {
   "cell_type": "code",
   "execution_count": 53,
   "metadata": {},
   "outputs": [
    {
     "data": {
      "text/plain": [
       "OrderedDict([('id', '0'),\n",
       "             ('id_description', '0'),\n",
       "             ('medical_specialty_new', ' Gastroenterology'),\n",
       "             ('text', ' EGD with photos and biopsies'),\n",
       "             ('year', 2013.0),\n",
       "             ('borough', 'Merton'),\n",
       "             ('length', 29)])"
      ]
     },
     "execution_count": 53,
     "metadata": {},
     "output_type": "execute_result"
    }
   ],
   "source": [
    "sentences[0]"
   ]
  },
  {
   "cell_type": "markdown",
   "metadata": {},
   "source": [
    "### 5. Load the API key for the Project Debater"
   ]
  },
  {
   "cell_type": "code",
   "execution_count": 54,
   "metadata": {},
   "outputs": [],
   "source": [
    "import pathlib\n",
    "\n",
    "apikey_path = pathlib.Path(\"../APIkey.txt\")\n",
    "api_key = apikey_path.read_text().strip()"
   ]
  },
  {
   "cell_type": "markdown",
   "metadata": {},
   "source": [
    "### 6. Initialize clients for the two services form the debater API"
   ]
  },
  {
   "cell_type": "code",
   "execution_count": 55,
   "metadata": {},
   "outputs": [],
   "source": [
    "from debater_python_api.api.debater_api import DebaterApi\n",
    "\n",
    "debater_api = DebaterApi(apikey=api_key)\n",
    "\n",
    "#Performs clustering of the data to segment it\n",
    "arg_quality_client = debater_api.get_argument_quality_client()\n",
    "\n",
    "#Identifies key points from the semi structured text to for a supporting text.\n",
    "keypoints_client = debater_api.get_keypoints_client()"
   ]
  },
  {
   "cell_type": "markdown",
   "metadata": {},
   "source": [
    "### 7. Set a topic and use the argument quality service to select the top 1000 sentences from the dataset more closely related to the chosen topic"
   ]
  },
  {
   "cell_type": "code",
   "execution_count": 56,
   "metadata": {},
   "outputs": [
    {
     "name": "stderr",
     "output_type": "stream",
     "text": [
      "ArgumentQualityClient: 100%|████████████████| 3245/3245 [00:36<00:00, 88.08it/s]\n",
      "2022-07-16 21:19:26,994 [INFO] argument_quality_client.py 21: argument_quality_client.run = 36901.381969451904ms.\n"
     ]
    }
   ],
   "source": [
    "topic = \"\"\"\n",
    "The patient is a 30-year-old who was admitted with symptoms including obstructions, failures, and pain that started four days ago.\n",
    "\"\"\"\n",
    "\n",
    "#Pair every test with the topic in a dic\n",
    "sentences_topic = [\n",
    "    { \"sentence\": sentence[\"text\"], \"topic\": topic, }\n",
    "    for sentence in sentences\n",
    "]\n",
    "\n",
    "#Asign the scores\n",
    "scores = arg_quality_client.run(sentences_topic)\n",
    "\n",
    "#Sort the paired sentences by the score, from highest to lowest\n",
    "sentences_sorted = [\n",
    "    s\n",
    "    for s, _ in sorted(zip(sentences,scores), key=lambda x: x[1], reverse=True)\n",
    "]\n",
    "\n",
    "#Keep the top 1000\n",
    "top_k = 1000\n",
    "sentences_top_100_aq = sentences_sorted[:top_k]"
   ]
  },
  {
   "cell_type": "markdown",
   "metadata": {},
   "source": [
    "### 8. Configure two parameters required for the key point analysis service"
   ]
  },
  {
   "cell_type": "markdown",
   "metadata": {},
   "source": [
    "`mapping_thershold`: A float within 0 and 1 (by default 0.99) that sets the minimum score for a match to be considered."
   ]
  },
  {
   "cell_type": "markdown",
   "metadata": {},
   "source": [
    "`n_top_kps`: An integer set by an internal algorithm that sets the number of key points to generate."
   ]
  },
  {
   "cell_type": "markdown",
   "metadata": {},
   "source": [
    "### 9. Reshape the data into two structures `sentences_texts` and `sentences_ids`"
   ]
  },
  {
   "cell_type": "code",
   "execution_count": 63,
   "metadata": {},
   "outputs": [],
   "source": [
    "domain = \"medical_demo\"\n",
    "\n",
    "run_params = {\n",
    "    \"mapping_threshold\": 0.95,\n",
    "    \"n_top_kps\": 20,\n",
    "}\n",
    "\n",
    "#List of texts...\n",
    "sentences_texts = [\n",
    "    sentence[\"text\"]\n",
    "    for sentence in sentences_top_100_aq\n",
    "]\n",
    "\n",
    "#...and list with their respective ids\n",
    "sentences_ids = [\n",
    "    sentence[\"id\"]\n",
    "    for sentence in sentences_top_100_aq\n",
    "]"
   ]
  },
  {
   "cell_type": "markdown",
   "metadata": {},
   "source": [
    "### 10. Clear the domain (in case the analysis has been run previously) and load the data for the key point analysis "
   ]
  },
  {
   "cell_type": "code",
   "execution_count": 64,
   "metadata": {},
   "outputs": [
    {
     "name": "stderr",
     "output_type": "stream",
     "text": [
      "2022-07-16 21:26:17,356 [INFO] keypoints_client.py 245: client calls service (delete): https://keypoint-matching-backend.debater.res.ibm.com/data\n",
      "2022-07-16 21:26:18,567 [INFO] keypoints_client.py 316: uploading 1000 comments in batches\n",
      "2022-07-16 21:26:18,570 [INFO] keypoints_client.py 245: client calls service (post): https://keypoint-matching-backend.debater.res.ibm.com/comments\n",
      "2022-07-16 21:26:24,360 [INFO] keypoints_client.py 333: uploaded 1000 comments, out of 1000\n",
      "2022-07-16 21:26:24,363 [INFO] keypoints_client.py 245: client calls service (get): https://keypoint-matching-backend.debater.res.ibm.com/comments\n",
      "2022-07-16 21:26:30,002 [INFO] keypoints_client.py 345: domain: medical_demo, comments status: {'processed_comments': 1000, 'processed_sentences': 1000, 'pending_comments': 0}\n"
     ]
    }
   ],
   "source": [
    "keypoints_client.delete_domain_cannot_be_undone(domain)\n",
    "\n",
    "keypoints_client.upload_comments(\n",
    "    domain=domain,\n",
    "    comments_ids=sentences_ids,\n",
    "    comments_texts=sentences_texts,\n",
    "    dont_split=True,\n",
    ")\n",
    "\n",
    "keypoints_client.wait_till_all_comments_are_processed(domain=domain)"
   ]
  },
  {
   "cell_type": "markdown",
   "metadata": {},
   "source": [
    "### 11. Run the key point analysis (KPA) job"
   ]
  },
  {
   "cell_type": "code",
   "execution_count": 65,
   "metadata": {},
   "outputs": [
    {
     "name": "stderr",
     "output_type": "stream",
     "text": [
      "2022-07-16 21:26:46,019 [INFO] keypoints_client.py 245: client calls service (post): https://keypoint-matching-backend.debater.res.ibm.com/kp_extraction\n",
      "2022-07-16 21:26:46,675 [INFO] keypoints_client.py 407: started a kp analysis job - domain: medical_demo, job_id: 62d373668e7da8a7796a92b1\n"
     ]
    }
   ],
   "source": [
    "future = keypoints_client.start_kp_analysis_job(\n",
    "    domain=domain,\n",
    "    #comments_ids=sentences_ids,\n",
    "    run_params=run_params,\n",
    ")"
   ]
  },
  {
   "cell_type": "code",
   "execution_count": 66,
   "metadata": {},
   "outputs": [
    {
     "name": "stderr",
     "output_type": "stream",
     "text": [
      "2022-07-16 21:26:49,192 [INFO] keypoints_client.py 245: client calls service (get): https://keypoint-matching-backend.debater.res.ibm.com/kp_extraction\n",
      "2022-07-16 21:26:57,663 [INFO] keypoints_client.py 245: client calls service (get): https://keypoint-matching-backend.debater.res.ibm.com/kp_extraction\n",
      "2022-07-16 21:27:03,691 [INFO] keypoints_client.py 245: client calls service (get): https://keypoint-matching-backend.debater.res.ibm.com/kp_extraction\n",
      "2022-07-16 21:27:09,691 [INFO] keypoints_client.py 245: client calls service (get): https://keypoint-matching-backend.debater.res.ibm.com/kp_extraction\n",
      "2022-07-16 21:27:15,751 [INFO] keypoints_client.py 245: client calls service (get): https://keypoint-matching-backend.debater.res.ibm.com/kp_extraction\n",
      "2022-07-16 21:27:21,755 [INFO] keypoints_client.py 245: client calls service (get): https://keypoint-matching-backend.debater.res.ibm.com/kp_extraction\n",
      "2022-07-16 21:27:27,775 [INFO] keypoints_client.py 245: client calls service (get): https://keypoint-matching-backend.debater.res.ibm.com/kp_extraction\n",
      "2022-07-16 21:27:33,803 [INFO] keypoints_client.py 245: client calls service (get): https://keypoint-matching-backend.debater.res.ibm.com/kp_extraction\n",
      "2022-07-16 21:27:39,816 [INFO] keypoints_client.py 245: client calls service (get): https://keypoint-matching-backend.debater.res.ibm.com/kp_extraction\n",
      "2022-07-16 21:27:45,883 [INFO] keypoints_client.py 245: client calls service (get): https://keypoint-matching-backend.debater.res.ibm.com/kp_extraction\n",
      "2022-07-16 21:27:51,875 [INFO] keypoints_client.py 245: client calls service (get): https://keypoint-matching-backend.debater.res.ibm.com/kp_extraction\n",
      "2022-07-16 21:27:57,919 [INFO] keypoints_client.py 245: client calls service (get): https://keypoint-matching-backend.debater.res.ibm.com/kp_extraction\n",
      "2022-07-16 21:28:03,938 [INFO] keypoints_client.py 245: client calls service (get): https://keypoint-matching-backend.debater.res.ibm.com/kp_extraction\n",
      "2022-07-16 21:28:09,975 [INFO] keypoints_client.py 245: client calls service (get): https://keypoint-matching-backend.debater.res.ibm.com/kp_extraction\n",
      "2022-07-16 21:28:11,669 [INFO] keypoints_client.py 587: job_id 62d373668e7da8a7796a92b1 is done, returning result\n"
     ]
    }
   ],
   "source": [
    "kpa_result = future.get_result(\n",
    "    high_verbosity=False,\n",
    "    polling_timout_secs=5,\n",
    ")"
   ]
  },
  {
   "cell_type": "code",
   "execution_count": 68,
   "metadata": {},
   "outputs": [
    {
     "data": {
      "text/plain": [
       "'62d373668e7da8a7796a92b1'"
      ]
     },
     "execution_count": 68,
     "metadata": {},
     "output_type": "execute_result"
    }
   ],
   "source": [
    "future.get_job_id()"
   ]
  },
  {
   "cell_type": "markdown",
   "metadata": {},
   "source": [
    "### 12. Examine the structure of one of the matching SPA results"
   ]
  },
  {
   "cell_type": "code",
   "execution_count": 69,
   "metadata": {},
   "outputs": [
    {
     "name": "stdout",
     "output_type": "stream",
     "text": [
      "{'domain': 'medical_demo', 'comment_id': '1220', 'sentence_id': 0, 'sents_in_comment': 1, 'span_start': 0, 'span_end': 157, 'num_tokens': 26, 'argument_quality': 0.650917649269104, 'sentence_text': '   The patient is a 1-year-old male with a history of chronic otitis media with effusion and conductive hearing loss refractory to outpatient medical therapy', 'score': 0}\n"
     ]
    }
   ],
   "source": [
    "print(kpa_result[\"keypoint_matchings\"][0][\"matching\"][0])"
   ]
  },
  {
   "cell_type": "markdown",
   "metadata": {},
   "source": [
    "### 13. Convert the KPA result to a pandas DataFrame and sample the results"
   ]
  },
  {
   "cell_type": "code",
   "execution_count": 76,
   "metadata": {},
   "outputs": [
    {
     "data": {
      "text/html": [
       "<div>\n",
       "<style scoped>\n",
       "    .dataframe tbody tr th:only-of-type {\n",
       "        vertical-align: middle;\n",
       "    }\n",
       "\n",
       "    .dataframe tbody tr th {\n",
       "        vertical-align: top;\n",
       "    }\n",
       "\n",
       "    .dataframe thead th {\n",
       "        text-align: right;\n",
       "    }\n",
       "</style>\n",
       "<table border=\"1\" class=\"dataframe\">\n",
       "  <thead>\n",
       "    <tr style=\"text-align: right;\">\n",
       "      <th></th>\n",
       "      <th>kp</th>\n",
       "      <th>sentence_text</th>\n",
       "      <th>match_score</th>\n",
       "      <th>comment_id</th>\n",
       "      <th>sentence_id</th>\n",
       "      <th>sents_in_comment</th>\n",
       "      <th>span_start</th>\n",
       "      <th>span_end</th>\n",
       "      <th>num_tokens</th>\n",
       "      <th>argument_quality</th>\n",
       "    </tr>\n",
       "  </thead>\n",
       "  <tbody>\n",
       "    <tr>\n",
       "      <th>887</th>\n",
       "      <td>Sepsis due to urinary tract infection.</td>\n",
       "      <td>Fever, otitis media, and possible sepsis.</td>\n",
       "      <td>0.999713</td>\n",
       "      <td>56</td>\n",
       "      <td>0</td>\n",
       "      <td>1</td>\n",
       "      <td>0</td>\n",
       "      <td>42</td>\n",
       "      <td>6</td>\n",
       "      <td>0.614363</td>\n",
       "    </tr>\n",
       "    <tr>\n",
       "      <th>888</th>\n",
       "      <td>Sepsis due to urinary tract infection.</td>\n",
       "      <td>The patient was discovered to have a MRSA bac...</td>\n",
       "      <td>0.999438</td>\n",
       "      <td>1693</td>\n",
       "      <td>0</td>\n",
       "      <td>1</td>\n",
       "      <td>0</td>\n",
       "      <td>155</td>\n",
       "      <td>27</td>\n",
       "      <td>0.552165</td>\n",
       "    </tr>\n",
       "    <tr>\n",
       "      <th>889</th>\n",
       "      <td>Sepsis due to urinary tract infection.</td>\n",
       "      <td>Recurrent urinary tract infection in a patien...</td>\n",
       "      <td>0.998664</td>\n",
       "      <td>718</td>\n",
       "      <td>0</td>\n",
       "      <td>1</td>\n",
       "      <td>0</td>\n",
       "      <td>116</td>\n",
       "      <td>16</td>\n",
       "      <td>0.657505</td>\n",
       "    </tr>\n",
       "    <tr>\n",
       "      <th>890</th>\n",
       "      <td>Clinical correlation is recommended.</td>\n",
       "      <td>Clinical correlation is recommended.</td>\n",
       "      <td>1.000000</td>\n",
       "      <td>929</td>\n",
       "      <td>0</td>\n",
       "      <td>1</td>\n",
       "      <td>0</td>\n",
       "      <td>37</td>\n",
       "      <td>4</td>\n",
       "      <td>0.614774</td>\n",
       "    </tr>\n",
       "    <tr>\n",
       "      <th>891</th>\n",
       "      <td>Clinical correlation is recommended.</td>\n",
       "      <td>Maculopapular rash in kind of a linear patter...</td>\n",
       "      <td>0.995213</td>\n",
       "      <td>3042</td>\n",
       "      <td>0</td>\n",
       "      <td>1</td>\n",
       "      <td>0</td>\n",
       "      <td>135</td>\n",
       "      <td>25</td>\n",
       "      <td>0.553300</td>\n",
       "    </tr>\n",
       "  </tbody>\n",
       "</table>\n",
       "</div>"
      ],
      "text/plain": [
       "                                          kp  \\\n",
       "887   Sepsis due to urinary tract infection.   \n",
       "888   Sepsis due to urinary tract infection.   \n",
       "889   Sepsis due to urinary tract infection.   \n",
       "890     Clinical correlation is recommended.   \n",
       "891     Clinical correlation is recommended.   \n",
       "\n",
       "                                         sentence_text  match_score  \\\n",
       "887          Fever, otitis media, and possible sepsis.     0.999713   \n",
       "888   The patient was discovered to have a MRSA bac...     0.999438   \n",
       "889   Recurrent urinary tract infection in a patien...     0.998664   \n",
       "890               Clinical correlation is recommended.     1.000000   \n",
       "891   Maculopapular rash in kind of a linear patter...     0.995213   \n",
       "\n",
       "    comment_id  sentence_id  sents_in_comment  span_start  span_end  \\\n",
       "887         56            0                 1           0        42   \n",
       "888       1693            0                 1           0       155   \n",
       "889        718            0                 1           0       116   \n",
       "890        929            0                 1           0        37   \n",
       "891       3042            0                 1           0       135   \n",
       "\n",
       "     num_tokens  argument_quality  \n",
       "887           6          0.614363  \n",
       "888          27          0.552165  \n",
       "889          16          0.657505  \n",
       "890           4          0.614774  \n",
       "891          25          0.553300  "
      ]
     },
     "execution_count": 76,
     "metadata": {},
     "output_type": "execute_result"
    }
   ],
   "source": [
    "matchings_rows = []\n",
    "\n",
    "for keypoint_matching in kpa_result[\"keypoint_matchings\"]:\n",
    "    kp = keypoint_matching[\"keypoint\"]\n",
    "    \n",
    "    for match in keypoint_matching[\"matching\"]:\n",
    "        match_row = [\n",
    "            kp,\n",
    "            match[\"sentence_text\"],\n",
    "            match[\"score\"],\n",
    "            match[\"comment_id\"],\n",
    "            match[\"sentence_id\"],\n",
    "            match[\"sents_in_comment\"],\n",
    "            match[\"span_start\"],\n",
    "            match[\"span_end\"],\n",
    "            match[\"num_tokens\"],\n",
    "            match[\"argument_quality\"],\n",
    "        ]\n",
    "        \n",
    "        matchings_rows.append(match_row)\n",
    "        \n",
    "cols = [\n",
    "    \"kp\",\n",
    "    \"sentence_text\",\n",
    "    \"match_score\",\n",
    "    \"comment_id\",\n",
    "    \"sentence_id\",\n",
    "    \"sents_in_comment\",\n",
    "    \"span_start\",\n",
    "    \"span_end\",\n",
    "    \"num_tokens\",\n",
    "    \"argument_quality\",\n",
    "]\n",
    "\n",
    "match_df = pd.DataFrame(matchings_rows, columns=cols)\n",
    "match_df.tail()"
   ]
  },
  {
   "cell_type": "markdown",
   "metadata": {},
   "source": [
    "### 14. Merge the KPA results with related sentences from the input dataset, and save to a csv"
   ]
  },
  {
   "cell_type": "code",
   "execution_count": 77,
   "metadata": {},
   "outputs": [
    {
     "data": {
      "text/html": [
       "<div>\n",
       "<style scoped>\n",
       "    .dataframe tbody tr th:only-of-type {\n",
       "        vertical-align: middle;\n",
       "    }\n",
       "\n",
       "    .dataframe tbody tr th {\n",
       "        vertical-align: top;\n",
       "    }\n",
       "\n",
       "    .dataframe thead th {\n",
       "        text-align: right;\n",
       "    }\n",
       "</style>\n",
       "<table border=\"1\" class=\"dataframe\">\n",
       "  <thead>\n",
       "    <tr style=\"text-align: right;\">\n",
       "      <th></th>\n",
       "      <th>kp</th>\n",
       "      <th>sentence_text</th>\n",
       "      <th>match_score</th>\n",
       "      <th>comment_id</th>\n",
       "      <th>sentence_id</th>\n",
       "      <th>sents_in_comment</th>\n",
       "      <th>span_start</th>\n",
       "      <th>span_end</th>\n",
       "      <th>num_tokens</th>\n",
       "      <th>argument_quality</th>\n",
       "      <th>id</th>\n",
       "      <th>id_description</th>\n",
       "      <th>medical_specialty_new</th>\n",
       "    </tr>\n",
       "  </thead>\n",
       "  <tbody>\n",
       "    <tr>\n",
       "      <th>887</th>\n",
       "      <td>Sepsis due to urinary tract infection.</td>\n",
       "      <td>Fever, otitis media, and possible sepsis.</td>\n",
       "      <td>0.999713</td>\n",
       "      <td>56</td>\n",
       "      <td>0</td>\n",
       "      <td>1</td>\n",
       "      <td>0</td>\n",
       "      <td>42</td>\n",
       "      <td>6</td>\n",
       "      <td>0.614363</td>\n",
       "      <td>56</td>\n",
       "      <td>49</td>\n",
       "      <td>Pediatrics - Neonatal</td>\n",
       "    </tr>\n",
       "    <tr>\n",
       "      <th>888</th>\n",
       "      <td>Sepsis due to urinary tract infection.</td>\n",
       "      <td>The patient was discovered to have a MRSA bac...</td>\n",
       "      <td>0.999438</td>\n",
       "      <td>1693</td>\n",
       "      <td>0</td>\n",
       "      <td>1</td>\n",
       "      <td>0</td>\n",
       "      <td>155</td>\n",
       "      <td>27</td>\n",
       "      <td>0.552165</td>\n",
       "      <td>1693</td>\n",
       "      <td>1354</td>\n",
       "      <td>Nephrology</td>\n",
       "    </tr>\n",
       "    <tr>\n",
       "      <th>889</th>\n",
       "      <td>Sepsis due to urinary tract infection.</td>\n",
       "      <td>Recurrent urinary tract infection in a patien...</td>\n",
       "      <td>0.998664</td>\n",
       "      <td>718</td>\n",
       "      <td>0</td>\n",
       "      <td>1</td>\n",
       "      <td>0</td>\n",
       "      <td>116</td>\n",
       "      <td>16</td>\n",
       "      <td>0.657505</td>\n",
       "      <td>718</td>\n",
       "      <td>739</td>\n",
       "      <td>Urology</td>\n",
       "    </tr>\n",
       "    <tr>\n",
       "      <th>890</th>\n",
       "      <td>Clinical correlation is recommended.</td>\n",
       "      <td>Clinical correlation is recommended.</td>\n",
       "      <td>1.000000</td>\n",
       "      <td>929</td>\n",
       "      <td>0</td>\n",
       "      <td>1</td>\n",
       "      <td>0</td>\n",
       "      <td>37</td>\n",
       "      <td>4</td>\n",
       "      <td>0.614774</td>\n",
       "      <td>929</td>\n",
       "      <td>923</td>\n",
       "      <td>Cardiovascular / Pulmonary</td>\n",
       "    </tr>\n",
       "    <tr>\n",
       "      <th>891</th>\n",
       "      <td>Clinical correlation is recommended.</td>\n",
       "      <td>Maculopapular rash in kind of a linear patter...</td>\n",
       "      <td>0.995213</td>\n",
       "      <td>3042</td>\n",
       "      <td>0</td>\n",
       "      <td>1</td>\n",
       "      <td>0</td>\n",
       "      <td>135</td>\n",
       "      <td>25</td>\n",
       "      <td>0.553300</td>\n",
       "      <td>3042</td>\n",
       "      <td>2197</td>\n",
       "      <td>Dermatology</td>\n",
       "    </tr>\n",
       "  </tbody>\n",
       "</table>\n",
       "</div>"
      ],
      "text/plain": [
       "                                          kp  \\\n",
       "887   Sepsis due to urinary tract infection.   \n",
       "888   Sepsis due to urinary tract infection.   \n",
       "889   Sepsis due to urinary tract infection.   \n",
       "890     Clinical correlation is recommended.   \n",
       "891     Clinical correlation is recommended.   \n",
       "\n",
       "                                         sentence_text  match_score  \\\n",
       "887          Fever, otitis media, and possible sepsis.     0.999713   \n",
       "888   The patient was discovered to have a MRSA bac...     0.999438   \n",
       "889   Recurrent urinary tract infection in a patien...     0.998664   \n",
       "890               Clinical correlation is recommended.     1.000000   \n",
       "891   Maculopapular rash in kind of a linear patter...     0.995213   \n",
       "\n",
       "    comment_id  sentence_id  sents_in_comment  span_start  span_end  \\\n",
       "887         56            0                 1           0        42   \n",
       "888       1693            0                 1           0       155   \n",
       "889        718            0                 1           0       116   \n",
       "890        929            0                 1           0        37   \n",
       "891       3042            0                 1           0       135   \n",
       "\n",
       "     num_tokens  argument_quality    id id_description  \\\n",
       "887           6          0.614363    56             49   \n",
       "888          27          0.552165  1693           1354   \n",
       "889          16          0.657505   718            739   \n",
       "890           4          0.614774   929            923   \n",
       "891          25          0.553300  3042           2197   \n",
       "\n",
       "           medical_specialty_new  \n",
       "887        Pediatrics - Neonatal  \n",
       "888                   Nephrology  \n",
       "889                      Urology  \n",
       "890   Cardiovascular / Pulmonary  \n",
       "891                  Dermatology  "
      ]
     },
     "execution_count": 77,
     "metadata": {},
     "output_type": "execute_result"
    }
   ],
   "source": [
    "df_merge = match_df.merge(\n",
    "    dataset[[\"id\", \"id_description\", \"medical_specialty_new\"]],\n",
    "    left_on = \"comment_id\",\n",
    "    right_on = \"id\",\n",
    "    validate = \"one_to_one\",\n",
    ")\n",
    "\n",
    "df_merge.tail()"
   ]
  },
  {
   "cell_type": "code",
   "execution_count": 75,
   "metadata": {},
   "outputs": [],
   "source": [
    "df_merge.to_csv(\"df_merge.csv\", index=False)"
   ]
  }
 ],
 "metadata": {
  "kernelspec": {
   "display_name": "Python 3 (ipykernel)",
   "language": "python",
   "name": "python3"
  },
  "language_info": {
   "codemirror_mode": {
    "name": "ipython",
    "version": 3
   },
   "file_extension": ".py",
   "mimetype": "text/x-python",
   "name": "python",
   "nbconvert_exporter": "python",
   "pygments_lexer": "ipython3",
   "version": "3.8.10"
  }
 },
 "nbformat": 4,
 "nbformat_minor": 4
}
