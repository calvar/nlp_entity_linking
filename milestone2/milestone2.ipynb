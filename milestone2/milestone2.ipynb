{
 "cells": [
  {
   "cell_type": "code",
   "execution_count": 1,
   "metadata": {},
   "outputs": [],
   "source": [
    "import numpy as np\n",
    "import pandas as pd"
   ]
  },
  {
   "cell_type": "markdown",
   "metadata": {},
   "source": [
    "### 1. Load the dataset and remove rows with null values "
   ]
  },
  {
   "cell_type": "code",
   "execution_count": 2,
   "metadata": {},
   "outputs": [
    {
     "data": {
      "text/html": [
       "<div>\n",
       "<style scoped>\n",
       "    .dataframe tbody tr th:only-of-type {\n",
       "        vertical-align: middle;\n",
       "    }\n",
       "\n",
       "    .dataframe tbody tr th {\n",
       "        vertical-align: top;\n",
       "    }\n",
       "\n",
       "    .dataframe thead th {\n",
       "        text-align: right;\n",
       "    }\n",
       "</style>\n",
       "<table border=\"1\" class=\"dataframe\">\n",
       "  <thead>\n",
       "    <tr style=\"text-align: right;\">\n",
       "      <th></th>\n",
       "      <th>id</th>\n",
       "      <th>id_description</th>\n",
       "      <th>medical_specialty_new</th>\n",
       "      <th>text</th>\n",
       "      <th>year</th>\n",
       "      <th>borough</th>\n",
       "      <th>length</th>\n",
       "    </tr>\n",
       "  </thead>\n",
       "  <tbody>\n",
       "    <tr>\n",
       "      <th>0</th>\n",
       "      <td>0</td>\n",
       "      <td>0</td>\n",
       "      <td>Gastroenterology</td>\n",
       "      <td>EGD with photos and biopsies</td>\n",
       "      <td>2013.0</td>\n",
       "      <td>Merton</td>\n",
       "      <td>29</td>\n",
       "    </tr>\n",
       "    <tr>\n",
       "      <th>1</th>\n",
       "      <td>1</td>\n",
       "      <td>0</td>\n",
       "      <td>Gastroenterology</td>\n",
       "      <td>This is a 75-year-old female who presents wit...</td>\n",
       "      <td>2013.0</td>\n",
       "      <td>Merton</td>\n",
       "      <td>106</td>\n",
       "    </tr>\n",
       "    <tr>\n",
       "      <th>2</th>\n",
       "      <td>2</td>\n",
       "      <td>0</td>\n",
       "      <td>Gastroenterology</td>\n",
       "      <td>She has a previous history of hiatal hernia</td>\n",
       "      <td>2013.0</td>\n",
       "      <td>Merton</td>\n",
       "      <td>44</td>\n",
       "    </tr>\n",
       "    <tr>\n",
       "      <th>3</th>\n",
       "      <td>3</td>\n",
       "      <td>0</td>\n",
       "      <td>Gastroenterology</td>\n",
       "      <td>She was on Prevacid currently</td>\n",
       "      <td>2013.0</td>\n",
       "      <td>Merton</td>\n",
       "      <td>30</td>\n",
       "    </tr>\n",
       "    <tr>\n",
       "      <th>4</th>\n",
       "      <td>4</td>\n",
       "      <td>1</td>\n",
       "      <td>Urology</td>\n",
       "      <td>Pelvic tumor, cystocele, rectocele, and uteri...</td>\n",
       "      <td>2013.0</td>\n",
       "      <td>Harrow</td>\n",
       "      <td>56</td>\n",
       "    </tr>\n",
       "  </tbody>\n",
       "</table>\n",
       "</div>"
      ],
      "text/plain": [
       "   id  id_description medical_specialty_new  \\\n",
       "0   0               0      Gastroenterology   \n",
       "1   1               0      Gastroenterology   \n",
       "2   2               0      Gastroenterology   \n",
       "3   3               0      Gastroenterology   \n",
       "4   4               1               Urology   \n",
       "\n",
       "                                                text    year borough  length  \n",
       "0                       EGD with photos and biopsies  2013.0  Merton      29  \n",
       "1   This is a 75-year-old female who presents wit...  2013.0  Merton     106  \n",
       "2        She has a previous history of hiatal hernia  2013.0  Merton      44  \n",
       "3                      She was on Prevacid currently  2013.0  Merton      30  \n",
       "4   Pelvic tumor, cystocele, rectocele, and uteri...  2013.0  Harrow      56  "
      ]
     },
     "execution_count": 2,
     "metadata": {},
     "output_type": "execute_result"
    }
   ],
   "source": [
    "data_df = pd.read_csv(\"../data/mtsamples_descriptions_clean.csv\")\n",
    "nonmiss_df = data_df.dropna()\n",
    "dataset = nonmiss_df.copy()\n",
    "dataset[\"length\"] = nonmiss_df[\"text\"].apply(lambda x: len(x))\n",
    "dataset.head()"
   ]
  },
  {
   "cell_type": "markdown",
   "metadata": {},
   "source": [
    "### 2. Transform the identifiers to strings"
   ]
  },
  {
   "cell_type": "code",
   "execution_count": 3,
   "metadata": {},
   "outputs": [],
   "source": [
    "dataset[\"id\"] = dataset[\"id\"].astype(str)\n",
    "dataset[\"id_description\"] = dataset[\"id_description\"].astype(str)"
   ]
  },
  {
   "cell_type": "markdown",
   "metadata": {},
   "source": [
    "### 3. Reshape dataset to use with the API"
   ]
  },
  {
   "cell_type": "markdown",
   "metadata": {},
   "source": [
    "### 4. Create a list where each element is an ordered dictionary of a row of the data set"
   ]
  },
  {
   "cell_type": "code",
   "execution_count": 4,
   "metadata": {},
   "outputs": [],
   "source": [
    "from collections import OrderedDict"
   ]
  },
  {
   "cell_type": "code",
   "execution_count": 5,
   "metadata": {},
   "outputs": [],
   "source": [
    "sentences = dataset.to_dict(into=OrderedDict, orient=\"records\")"
   ]
  },
  {
   "cell_type": "code",
   "execution_count": 6,
   "metadata": {},
   "outputs": [
    {
     "data": {
      "text/plain": [
       "OrderedDict([('id', '0'),\n",
       "             ('id_description', '0'),\n",
       "             ('medical_specialty_new', ' Gastroenterology'),\n",
       "             ('text', ' EGD with photos and biopsies'),\n",
       "             ('year', 2013.0),\n",
       "             ('borough', 'Merton'),\n",
       "             ('length', 29)])"
      ]
     },
     "execution_count": 6,
     "metadata": {},
     "output_type": "execute_result"
    }
   ],
   "source": [
    "sentences[0]"
   ]
  },
  {
   "cell_type": "markdown",
   "metadata": {},
   "source": [
    "### 5. Load the API key for the Project Debater"
   ]
  },
  {
   "cell_type": "code",
   "execution_count": 7,
   "metadata": {},
   "outputs": [],
   "source": [
    "import pathlib\n",
    "\n",
    "apikey_path = pathlib.Path(\"../APIkey.txt\")\n",
    "api_key = apikey_path.read_text().strip()"
   ]
  },
  {
   "cell_type": "markdown",
   "metadata": {},
   "source": [
    "### 6. Initialize clients for the two services form the debater API"
   ]
  },
  {
   "cell_type": "code",
   "execution_count": 8,
   "metadata": {},
   "outputs": [],
   "source": [
    "from debater_python_api.api.debater_api import DebaterApi\n",
    "\n",
    "debater_api = DebaterApi(apikey=api_key)\n",
    "\n",
    "#Performs clustering of the data to segment it\n",
    "arg_quality_client = debater_api.get_argument_quality_client()\n",
    "\n",
    "#Identifies key points from the semi structured text to for a supporting text.\n",
    "keypoints_client = debater_api.get_keypoints_client()"
   ]
  },
  {
   "cell_type": "markdown",
   "metadata": {},
   "source": [
    "### 7. Set a topic and use the argument quality service to select the top 1000 sentences from the dataset more closely related to the chosen topic"
   ]
  },
  {
   "cell_type": "code",
   "execution_count": 9,
   "metadata": {},
   "outputs": [
    {
     "name": "stderr",
     "output_type": "stream",
     "text": [
      "ArgumentQualityClient: 100%|████████████████| 3245/3245 [00:39<00:00, 82.04it/s]\n"
     ]
    }
   ],
   "source": [
    "topic = \"\"\"\n",
    "The patient is a 30-year-old who was admitted with symptoms including obstructions, failures, and pain that started four days ago.\n",
    "\"\"\"\n",
    "\n",
    "#Pair every test with the topic in a dic\n",
    "sentences_topic = [\n",
    "    { \"sentence\": sentence[\"text\"], \"topic\": topic, }\n",
    "    for sentence in sentences\n",
    "]\n",
    "\n",
    "#Asign the scores\n",
    "scores = arg_quality_client.run(sentences_topic)\n",
    "\n",
    "#Sort the paired sentences by the score, from highest to lowest\n",
    "sentences_sorted = [\n",
    "    s\n",
    "    for s, _ in sorted(zip(sentences,scores), key=lambda x: x[1], reverse=True)\n",
    "]\n",
    "\n",
    "#Keep the top 1000\n",
    "top_k = 1000\n",
    "sentences_top_1000_aq = sentences_sorted[:top_k]"
   ]
  },
  {
   "cell_type": "markdown",
   "metadata": {},
   "source": [
    "### 8. Configure two parameters required for the key point analysis service"
   ]
  },
  {
   "cell_type": "markdown",
   "metadata": {},
   "source": [
    "`mapping_thershold`: A float within 0 and 1 (by default 0.99) that sets the minimum score for a match to be considered."
   ]
  },
  {
   "cell_type": "markdown",
   "metadata": {},
   "source": [
    "`n_top_kps`: An integer set by an internal algorithm that sets the number of key points to generate."
   ]
  },
  {
   "cell_type": "markdown",
   "metadata": {},
   "source": [
    "### 9. Reshape the data into two structures `sentences_texts` and `sentences_ids`"
   ]
  },
  {
   "cell_type": "code",
   "execution_count": 10,
   "metadata": {},
   "outputs": [],
   "source": [
    "domain = \"medical_demo\"\n",
    "\n",
    "run_params = {\n",
    "    \"mapping_threshold\": 0.95,\n",
    "    \"n_top_kps\": 20,\n",
    "}\n",
    "\n",
    "#List of texts...\n",
    "sentences_texts = [\n",
    "    sentence[\"text\"]\n",
    "    for sentence in sentences_top_1000_aq\n",
    "]\n",
    "\n",
    "#...and list with their respective ids\n",
    "sentences_ids = [\n",
    "    sentence[\"id\"]\n",
    "    for sentence in sentences_top_1000_aq\n",
    "]"
   ]
  },
  {
   "cell_type": "markdown",
   "metadata": {},
   "source": [
    "### 10. Clear the domain (in case the analysis has been run previously) and load the data for the key point analysis "
   ]
  },
  {
   "cell_type": "code",
   "execution_count": 11,
   "metadata": {},
   "outputs": [],
   "source": [
    "keypoints_client.delete_domain_cannot_be_undone(domain)\n",
    "\n",
    "keypoints_client.upload_comments(\n",
    "    domain=domain,\n",
    "    comments_ids=sentences_ids,\n",
    "    comments_texts=sentences_texts,\n",
    "    dont_split=True,\n",
    ")\n",
    "\n",
    "keypoints_client.wait_till_all_comments_are_processed(domain=domain)"
   ]
  },
  {
   "cell_type": "markdown",
   "metadata": {},
   "source": [
    "### 11. Run the key point analysis (KPA) job"
   ]
  },
  {
   "cell_type": "code",
   "execution_count": 12,
   "metadata": {},
   "outputs": [],
   "source": [
    "future = keypoints_client.start_kp_analysis_job(\n",
    "    domain=domain,\n",
    "    #comments_ids=sentences_ids,\n",
    "    run_params=run_params,\n",
    ")"
   ]
  },
  {
   "cell_type": "code",
   "execution_count": 13,
   "metadata": {},
   "outputs": [],
   "source": [
    "kpa_result = future.get_result(\n",
    "    high_verbosity=False,\n",
    "    polling_timout_secs=5,\n",
    ")"
   ]
  },
  {
   "cell_type": "code",
   "execution_count": 14,
   "metadata": {},
   "outputs": [
    {
     "data": {
      "text/plain": [
       "'62dd700b8e7da8a7796aa4e1'"
      ]
     },
     "execution_count": 14,
     "metadata": {},
     "output_type": "execute_result"
    }
   ],
   "source": [
    "future.get_job_id()"
   ]
  },
  {
   "cell_type": "markdown",
   "metadata": {},
   "source": [
    "### 12. Examine the structure of one of the matching SPA results"
   ]
  },
  {
   "cell_type": "code",
   "execution_count": 15,
   "metadata": {},
   "outputs": [
    {
     "name": "stdout",
     "output_type": "stream",
     "text": [
      "{'domain': 'medical_demo', 'comment_id': '1220', 'sentence_id': 0, 'sents_in_comment': 1, 'span_start': 0, 'span_end': 157, 'num_tokens': 26, 'argument_quality': 0.650917649269104, 'sentence_text': '   The patient is a 1-year-old male with a history of chronic otitis media with effusion and conductive hearing loss refractory to outpatient medical therapy', 'score': 0}\n"
     ]
    }
   ],
   "source": [
    "print(kpa_result[\"keypoint_matchings\"][0][\"matching\"][0])"
   ]
  },
  {
   "cell_type": "markdown",
   "metadata": {},
   "source": [
    "### 13. Convert the KPA result to a pandas DataFrame and sample the results"
   ]
  },
  {
   "cell_type": "code",
   "execution_count": 18,
   "metadata": {},
   "outputs": [
    {
     "data": {
      "text/html": [
       "<div>\n",
       "<style scoped>\n",
       "    .dataframe tbody tr th:only-of-type {\n",
       "        vertical-align: middle;\n",
       "    }\n",
       "\n",
       "    .dataframe tbody tr th {\n",
       "        vertical-align: top;\n",
       "    }\n",
       "\n",
       "    .dataframe thead th {\n",
       "        text-align: right;\n",
       "    }\n",
       "</style>\n",
       "<table border=\"1\" class=\"dataframe\">\n",
       "  <thead>\n",
       "    <tr style=\"text-align: right;\">\n",
       "      <th></th>\n",
       "      <th>kp</th>\n",
       "      <th>sentence_text</th>\n",
       "      <th>match_score</th>\n",
       "      <th>comment_id</th>\n",
       "      <th>sentence_id</th>\n",
       "      <th>sents_in_comment</th>\n",
       "      <th>span_start</th>\n",
       "      <th>span_end</th>\n",
       "      <th>num_tokens</th>\n",
       "      <th>argument_quality</th>\n",
       "    </tr>\n",
       "  </thead>\n",
       "  <tbody>\n",
       "    <tr>\n",
       "      <th>16</th>\n",
       "      <td>Dysphagia, possible stricture</td>\n",
       "      <td>The patient complained of globus sensation hi...</td>\n",
       "      <td>0.955405</td>\n",
       "      <td>752</td>\n",
       "      <td>0</td>\n",
       "      <td>1</td>\n",
       "      <td>0</td>\n",
       "      <td>107</td>\n",
       "      <td>17</td>\n",
       "      <td>0.523058</td>\n",
       "    </tr>\n",
       "    <tr>\n",
       "      <th>17</th>\n",
       "      <td>The patient has a history of malrotation.</td>\n",
       "      <td>An 86-year-old woman with a history of aortic...</td>\n",
       "      <td>0.957704</td>\n",
       "      <td>756</td>\n",
       "      <td>0</td>\n",
       "      <td>1</td>\n",
       "      <td>0</td>\n",
       "      <td>113</td>\n",
       "      <td>19</td>\n",
       "      <td>0.559989</td>\n",
       "    </tr>\n",
       "    <tr>\n",
       "      <th>18</th>\n",
       "      <td>Palpitations, possibly related to anxiety</td>\n",
       "      <td>The patient was originally hospitalized secon...</td>\n",
       "      <td>0.962797</td>\n",
       "      <td>352</td>\n",
       "      <td>0</td>\n",
       "      <td>1</td>\n",
       "      <td>0</td>\n",
       "      <td>82</td>\n",
       "      <td>10</td>\n",
       "      <td>0.490882</td>\n",
       "    </tr>\n",
       "    <tr>\n",
       "      <th>19</th>\n",
       "      <td>Cognitive linguistic impairment secondary to ...</td>\n",
       "      <td>Mild organic brain syndrome, presumably secon...</td>\n",
       "      <td>0.962278</td>\n",
       "      <td>723</td>\n",
       "      <td>0</td>\n",
       "      <td>1</td>\n",
       "      <td>0</td>\n",
       "      <td>89</td>\n",
       "      <td>12</td>\n",
       "      <td>0.565019</td>\n",
       "    </tr>\n",
       "    <tr>\n",
       "      <th>20</th>\n",
       "      <td>Brachytherapy, iodine-125 seed implantation, ...</td>\n",
       "      <td>The placement was confirmed with indirect oph...</td>\n",
       "      <td>0.968803</td>\n",
       "      <td>2337</td>\n",
       "      <td>0</td>\n",
       "      <td>1</td>\n",
       "      <td>0</td>\n",
       "      <td>57</td>\n",
       "      <td>7</td>\n",
       "      <td>0.479318</td>\n",
       "    </tr>\n",
       "  </tbody>\n",
       "</table>\n",
       "</div>"
      ],
      "text/plain": [
       "                                                   kp  \\\n",
       "16                      Dysphagia, possible stricture   \n",
       "17          The patient has a history of malrotation.   \n",
       "18          Palpitations, possibly related to anxiety   \n",
       "19   Cognitive linguistic impairment secondary to ...   \n",
       "20   Brachytherapy, iodine-125 seed implantation, ...   \n",
       "\n",
       "                                        sentence_text  match_score comment_id  \\\n",
       "16   The patient complained of globus sensation hi...     0.955405        752   \n",
       "17   An 86-year-old woman with a history of aortic...     0.957704        756   \n",
       "18   The patient was originally hospitalized secon...     0.962797        352   \n",
       "19   Mild organic brain syndrome, presumably secon...     0.962278        723   \n",
       "20   The placement was confirmed with indirect oph...     0.968803       2337   \n",
       "\n",
       "    sentence_id  sents_in_comment  span_start  span_end  num_tokens  \\\n",
       "16            0                 1           0       107          17   \n",
       "17            0                 1           0       113          19   \n",
       "18            0                 1           0        82          10   \n",
       "19            0                 1           0        89          12   \n",
       "20            0                 1           0        57           7   \n",
       "\n",
       "    argument_quality  \n",
       "16          0.523058  \n",
       "17          0.559989  \n",
       "18          0.490882  \n",
       "19          0.565019  \n",
       "20          0.479318  "
      ]
     },
     "execution_count": 18,
     "metadata": {},
     "output_type": "execute_result"
    }
   ],
   "source": [
    "matchings_rows = []\n",
    "\n",
    "for keypoint_matching in kpa_result[\"keypoint_matchings\"]:\n",
    "    kp = keypoint_matching[\"keypoint\"]\n",
    "    \n",
    "    for match in keypoint_matching[\"matching\"]:\n",
    "        match_row = [\n",
    "            kp,\n",
    "            match[\"sentence_text\"],\n",
    "            match[\"score\"],\n",
    "            match[\"comment_id\"],\n",
    "            match[\"sentence_id\"],\n",
    "            match[\"sents_in_comment\"],\n",
    "            match[\"span_start\"],\n",
    "            match[\"span_end\"],\n",
    "            match[\"num_tokens\"],\n",
    "            match[\"argument_quality\"],\n",
    "        ]\n",
    "        \n",
    "    matchings_rows.append(match_row)\n",
    "        \n",
    "cols = [\n",
    "    \"kp\",\n",
    "    \"sentence_text\",\n",
    "    \"match_score\",\n",
    "    \"comment_id\",\n",
    "    \"sentence_id\",\n",
    "    \"sents_in_comment\",\n",
    "    \"span_start\",\n",
    "    \"span_end\",\n",
    "    \"num_tokens\",\n",
    "    \"argument_quality\",\n",
    "]\n",
    "\n",
    "match_df = pd.DataFrame(matchings_rows, columns=cols)\n",
    "match_df.tail()"
   ]
  },
  {
   "cell_type": "markdown",
   "metadata": {},
   "source": [
    "### 14. Merge the KPA results with related sentences from the input dataset, and save to a csv"
   ]
  },
  {
   "cell_type": "code",
   "execution_count": 19,
   "metadata": {},
   "outputs": [
    {
     "data": {
      "text/html": [
       "<div>\n",
       "<style scoped>\n",
       "    .dataframe tbody tr th:only-of-type {\n",
       "        vertical-align: middle;\n",
       "    }\n",
       "\n",
       "    .dataframe tbody tr th {\n",
       "        vertical-align: top;\n",
       "    }\n",
       "\n",
       "    .dataframe thead th {\n",
       "        text-align: right;\n",
       "    }\n",
       "</style>\n",
       "<table border=\"1\" class=\"dataframe\">\n",
       "  <thead>\n",
       "    <tr style=\"text-align: right;\">\n",
       "      <th></th>\n",
       "      <th>kp</th>\n",
       "      <th>sentence_text</th>\n",
       "      <th>match_score</th>\n",
       "      <th>comment_id</th>\n",
       "      <th>sentence_id</th>\n",
       "      <th>sents_in_comment</th>\n",
       "      <th>span_start</th>\n",
       "      <th>span_end</th>\n",
       "      <th>num_tokens</th>\n",
       "      <th>argument_quality</th>\n",
       "      <th>id</th>\n",
       "      <th>id_description</th>\n",
       "      <th>medical_specialty_new</th>\n",
       "    </tr>\n",
       "  </thead>\n",
       "  <tbody>\n",
       "    <tr>\n",
       "      <th>16</th>\n",
       "      <td>Dysphagia, possible stricture</td>\n",
       "      <td>The patient complained of globus sensation hi...</td>\n",
       "      <td>0.955405</td>\n",
       "      <td>752</td>\n",
       "      <td>0</td>\n",
       "      <td>1</td>\n",
       "      <td>0</td>\n",
       "      <td>107</td>\n",
       "      <td>17</td>\n",
       "      <td>0.523058</td>\n",
       "      <td>752</td>\n",
       "      <td>785</td>\n",
       "      <td>Gastroenterology</td>\n",
       "    </tr>\n",
       "    <tr>\n",
       "      <th>17</th>\n",
       "      <td>The patient has a history of malrotation.</td>\n",
       "      <td>An 86-year-old woman with a history of aortic...</td>\n",
       "      <td>0.957704</td>\n",
       "      <td>756</td>\n",
       "      <td>0</td>\n",
       "      <td>1</td>\n",
       "      <td>0</td>\n",
       "      <td>113</td>\n",
       "      <td>19</td>\n",
       "      <td>0.559989</td>\n",
       "      <td>756</td>\n",
       "      <td>788</td>\n",
       "      <td>Cardiovascular / Pulmonary</td>\n",
       "    </tr>\n",
       "    <tr>\n",
       "      <th>18</th>\n",
       "      <td>Palpitations, possibly related to anxiety</td>\n",
       "      <td>The patient was originally hospitalized secon...</td>\n",
       "      <td>0.962797</td>\n",
       "      <td>352</td>\n",
       "      <td>0</td>\n",
       "      <td>1</td>\n",
       "      <td>0</td>\n",
       "      <td>82</td>\n",
       "      <td>10</td>\n",
       "      <td>0.490882</td>\n",
       "      <td>352</td>\n",
       "      <td>418</td>\n",
       "      <td>Cardiovascular / Pulmonary</td>\n",
       "    </tr>\n",
       "    <tr>\n",
       "      <th>19</th>\n",
       "      <td>Cognitive linguistic impairment secondary to ...</td>\n",
       "      <td>Mild organic brain syndrome, presumably secon...</td>\n",
       "      <td>0.962278</td>\n",
       "      <td>723</td>\n",
       "      <td>0</td>\n",
       "      <td>1</td>\n",
       "      <td>0</td>\n",
       "      <td>89</td>\n",
       "      <td>12</td>\n",
       "      <td>0.565019</td>\n",
       "      <td>723</td>\n",
       "      <td>746</td>\n",
       "      <td>Psychiatry / Psychology</td>\n",
       "    </tr>\n",
       "    <tr>\n",
       "      <th>20</th>\n",
       "      <td>Brachytherapy, iodine-125 seed implantation, ...</td>\n",
       "      <td>The placement was confirmed with indirect oph...</td>\n",
       "      <td>0.968803</td>\n",
       "      <td>2337</td>\n",
       "      <td>0</td>\n",
       "      <td>1</td>\n",
       "      <td>0</td>\n",
       "      <td>57</td>\n",
       "      <td>7</td>\n",
       "      <td>0.479318</td>\n",
       "      <td>2337</td>\n",
       "      <td>1668</td>\n",
       "      <td>Ophthalmology</td>\n",
       "    </tr>\n",
       "  </tbody>\n",
       "</table>\n",
       "</div>"
      ],
      "text/plain": [
       "                                                   kp  \\\n",
       "16                      Dysphagia, possible stricture   \n",
       "17          The patient has a history of malrotation.   \n",
       "18          Palpitations, possibly related to anxiety   \n",
       "19   Cognitive linguistic impairment secondary to ...   \n",
       "20   Brachytherapy, iodine-125 seed implantation, ...   \n",
       "\n",
       "                                        sentence_text  match_score comment_id  \\\n",
       "16   The patient complained of globus sensation hi...     0.955405        752   \n",
       "17   An 86-year-old woman with a history of aortic...     0.957704        756   \n",
       "18   The patient was originally hospitalized secon...     0.962797        352   \n",
       "19   Mild organic brain syndrome, presumably secon...     0.962278        723   \n",
       "20   The placement was confirmed with indirect oph...     0.968803       2337   \n",
       "\n",
       "    sentence_id  sents_in_comment  span_start  span_end  num_tokens  \\\n",
       "16            0                 1           0       107          17   \n",
       "17            0                 1           0       113          19   \n",
       "18            0                 1           0        82          10   \n",
       "19            0                 1           0        89          12   \n",
       "20            0                 1           0        57           7   \n",
       "\n",
       "    argument_quality    id id_description        medical_specialty_new  \n",
       "16          0.523058   752            785             Gastroenterology  \n",
       "17          0.559989   756            788   Cardiovascular / Pulmonary  \n",
       "18          0.490882   352            418   Cardiovascular / Pulmonary  \n",
       "19          0.565019   723            746      Psychiatry / Psychology  \n",
       "20          0.479318  2337           1668                Ophthalmology  "
      ]
     },
     "execution_count": 19,
     "metadata": {},
     "output_type": "execute_result"
    }
   ],
   "source": [
    "df_merge = match_df.merge(\n",
    "    dataset[[\"id\", \"id_description\", \"medical_specialty_new\"]],\n",
    "    left_on = \"comment_id\",\n",
    "    right_on = \"id\",\n",
    "    validate = \"one_to_one\",\n",
    ")\n",
    "\n",
    "df_merge.tail()"
   ]
  },
  {
   "cell_type": "code",
   "execution_count": null,
   "metadata": {},
   "outputs": [],
   "source": [
    "df_merge.to_csv(\"df_merge.csv\", index=False)"
   ]
  }
 ],
 "metadata": {
  "kernelspec": {
   "display_name": "Python 3",
   "language": "python",
   "name": "python3"
  },
  "language_info": {
   "codemirror_mode": {
    "name": "ipython",
    "version": 3
   },
   "file_extension": ".py",
   "mimetype": "text/x-python",
   "name": "python",
   "nbconvert_exporter": "python",
   "pygments_lexer": "ipython3",
   "version": "3.8.10"
  }
 },
 "nbformat": 4,
 "nbformat_minor": 4
}
